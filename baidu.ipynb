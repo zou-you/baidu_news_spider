{
 "cells": [
  {
   "cell_type": "code",
   "execution_count": 1,
   "metadata": {},
   "outputs": [],
   "source": [
    "# 导入BaiduSpider\n",
    "from baiduspider import BaiduSpider\n",
    "from pprint import pprint\n",
    "\n",
    "# 实例化BaiduSpider\n",
    "spider = BaiduSpider()"
   ]
  },
  {
   "cell_type": "code",
   "execution_count": 2,
   "metadata": {},
   "outputs": [],
   "source": [
    "from baiduspider import BaiduSpider\n",
    "\n",
    "spider = BaiduSpider()\n",
    "\n",
    "res = spider.search_news(query='miniLED', sort_by=\"time\")\n",
    "res = res.plain"
   ]
  },
  {
   "cell_type": "code",
   "execution_count": 3,
   "metadata": {},
   "outputs": [],
   "source": [
    "import pandas as pd"
   ]
  },
  {
   "cell_type": "code",
   "execution_count": 4,
   "metadata": {},
   "outputs": [
    {
     "data": {
      "text/html": [
       "<div>\n",
       "<style scoped>\n",
       "    .dataframe tbody tr th:only-of-type {\n",
       "        vertical-align: middle;\n",
       "    }\n",
       "\n",
       "    .dataframe tbody tr th {\n",
       "        vertical-align: top;\n",
       "    }\n",
       "\n",
       "    .dataframe thead th {\n",
       "        text-align: right;\n",
       "    }\n",
       "</style>\n",
       "<table border=\"1\" class=\"dataframe\">\n",
       "  <thead>\n",
       "    <tr style=\"text-align: right;\">\n",
       "      <th></th>\n",
       "      <th>标题</th>\n",
       "      <th>来源</th>\n",
       "      <th>日期</th>\n",
       "      <th>简介</th>\n",
       "      <th>链接</th>\n",
       "    </tr>\n",
       "  </thead>\n",
       "  <tbody>\n",
       "    <tr>\n",
       "      <th>0</th>\n",
       "      <td>投资25.7亿!韩国政府支持MicroLED研发及生态系统建设</td>\n",
       "      <td>电子工程专辑</td>\n",
       "      <td>昨天09:58</td>\n",
       "      <td>5月30-31日,集摩咨询(JM Insights)联手洛图科技(TUNTO)、WitDis...</td>\n",
       "      <td>https://www.eet-china.com/mp/a317347.html</td>\n",
       "    </tr>\n",
       "    <tr>\n",
       "      <th>1</th>\n",
       "      <td>概念动态|汇创达新增“MiniLED”概念</td>\n",
       "      <td>同花顺</td>\n",
       "      <td>3天前</td>\n",
       "      <td>概念动态|汇创达新增“MiniLED”概念 2024年5月24日,汇创达(300909)新增...</td>\n",
       "      <td>https://stock.10jqka.com.cn/20240524/c65817673...</td>\n",
       "    </tr>\n",
       "    <tr>\n",
       "      <th>2</th>\n",
       "      <td>瑞丰光电:公司MiniLED产品目前主要采用的是COB方案,对玻璃基板...</td>\n",
       "      <td>ZAKER</td>\n",
       "      <td>4天前</td>\n",
       "      <td>公司是专业从事 LED 封装及提供相关解决方案的国家级高新技术企业,公司业务大类主要分为 L...</td>\n",
       "      <td>http://app.myzaker.com/news/article.php?pk=664...</td>\n",
       "    </tr>\n",
       "    <tr>\n",
       "      <th>3</th>\n",
       "      <td>瑞丰光电(300241.SZ):公司MiniLED产品目前主要采用的是COB方案</td>\n",
       "      <td>格隆汇</td>\n",
       "      <td>4天前</td>\n",
       "      <td>格隆汇5月23日丨瑞丰光电(300241.SZ)在投资者互动平台表示，公司MiniLED产品...</td>\n",
       "      <td>https://baijiahao.baidu.com/s?id=1799839344141...</td>\n",
       "    </tr>\n",
       "    <tr>\n",
       "      <th>4</th>\n",
       "      <td>65W Type-C + Mini LED:联合创新 27 英寸 4K 显示器 1470 元...</td>\n",
       "      <td>IT之家</td>\n",
       "      <td>4天前</td>\n",
       "      <td>京东联合创新 27 英寸 4K MiniLED 显示器27M2U-D折后 1470.51 元...</td>\n",
       "      <td>https://www.ithome.com/0/770/056.htm</td>\n",
       "    </tr>\n",
       "    <tr>\n",
       "      <th>5</th>\n",
       "      <td>5月23日MiniLED板块跌幅达2%</td>\n",
       "      <td>东方财富网</td>\n",
       "      <td>4天前</td>\n",
       "      <td>5月23日10点4分,MiniLED 板块指数报1295.209点,跌幅达2%,成交46...</td>\n",
       "      <td>https://wap.eastmoney.com/a/202405233085097059...</td>\n",
       "    </tr>\n",
       "    <tr>\n",
       "      <th>6</th>\n",
       "      <td>聚灿光电:公司 Mini LED 产品主要应用领域为背光和显示,感谢您的...</td>\n",
       "      <td>ZAKER资讯</td>\n",
       "      <td>5天前</td>\n",
       "      <td>投资者:董秘你好,贵公司 Mini LED 背光产品是否在玻璃基板领域也有所布局和发展?或者...</td>\n",
       "      <td>http://www.myzaker.com/article/664dd1448e9f092...</td>\n",
       "    </tr>\n",
       "    <tr>\n",
       "      <th>7</th>\n",
       "      <td>BOE(京东方)独供明基首款玻璃基主动式Mini LED显示器重磅发布</td>\n",
       "      <td>华商韬略</td>\n",
       "      <td>5天前</td>\n",
       "      <td>近日，明基（BenQ）首款玻璃基主动式Mini LED高端系列显示器MOBIUZ EX321...</td>\n",
       "      <td>https://baijiahao.baidu.com/s?id=1799747017517...</td>\n",
       "    </tr>\n",
       "    <tr>\n",
       "      <th>8</th>\n",
       "      <td>雷鸟Q7 27寸显示器开售:2K 240Hz QD-Mini LED屏首发1999元</td>\n",
       "      <td>快科技</td>\n",
       "      <td>5天前</td>\n",
       "      <td>快科技5月22日消息，雷鸟Q7显示器目前已经开售，2K 240Hz QD-MiniLED屏幕...</td>\n",
       "      <td>https://baijiahao.baidu.com/s?id=1799751977089...</td>\n",
       "    </tr>\n",
       "    <tr>\n",
       "      <th>9</th>\n",
       "      <td>MiniLED概念22日主力净流入6238.2万元,TCL科技、雷曼光电居前</td>\n",
       "      <td>金融界</td>\n",
       "      <td>5天前</td>\n",
       "      <td>TCL科技、雷曼光电居前 5月22日，MiniLED概念上涨1.68%，今日主力资金流入62...</td>\n",
       "      <td>https://baijiahao.baidu.com/s?id=1799737447599...</td>\n",
       "    </tr>\n",
       "  </tbody>\n",
       "</table>\n",
       "</div>"
      ],
      "text/plain": [
       "                                                  标题       来源       日期  \\\n",
       "0                    投资25.7亿!韩国政府支持MicroLED研发及生态系统建设   电子工程专辑  昨天09:58   \n",
       "1                              概念动态|汇创达新增“MiniLED”概念      同花顺      3天前   \n",
       "2             瑞丰光电:公司MiniLED产品目前主要采用的是COB方案,对玻璃基板...    ZAKER      4天前   \n",
       "3           瑞丰光电(300241.SZ):公司MiniLED产品目前主要采用的是COB方案      格隆汇      4天前   \n",
       "4  65W Type-C + Mini LED:联合创新 27 英寸 4K 显示器 1470 元...     IT之家      4天前   \n",
       "5                                5月23日MiniLED板块跌幅达2%    东方财富网      4天前   \n",
       "6            聚灿光电:公司 Mini LED 产品主要应用领域为背光和显示,感谢您的...  ZAKER资讯      5天前   \n",
       "7                BOE(京东方)独供明基首款玻璃基主动式Mini LED显示器重磅发布     华商韬略      5天前   \n",
       "8         雷鸟Q7 27寸显示器开售:2K 240Hz QD-Mini LED屏首发1999元      快科技      5天前   \n",
       "9             MiniLED概念22日主力净流入6238.2万元,TCL科技、雷曼光电居前      金融界      5天前   \n",
       "\n",
       "                                                  简介  \\\n",
       "0  5月30-31日,集摩咨询(JM Insights)联手洛图科技(TUNTO)、WitDis...   \n",
       "1  概念动态|汇创达新增“MiniLED”概念 2024年5月24日,汇创达(300909)新增...   \n",
       "2  公司是专业从事 LED 封装及提供相关解决方案的国家级高新技术企业,公司业务大类主要分为 L...   \n",
       "3  格隆汇5月23日丨瑞丰光电(300241.SZ)在投资者互动平台表示，公司MiniLED产品...   \n",
       "4  京东联合创新 27 英寸 4K MiniLED 显示器27M2U-D折后 1470.51 元...   \n",
       "5    5月23日10点4分,MiniLED 板块指数报1295.209点,跌幅达2%,成交46...   \n",
       "6  投资者:董秘你好,贵公司 Mini LED 背光产品是否在玻璃基板领域也有所布局和发展?或者...   \n",
       "7  近日，明基（BenQ）首款玻璃基主动式Mini LED高端系列显示器MOBIUZ EX321...   \n",
       "8  快科技5月22日消息，雷鸟Q7显示器目前已经开售，2K 240Hz QD-MiniLED屏幕...   \n",
       "9  TCL科技、雷曼光电居前 5月22日，MiniLED概念上涨1.68%，今日主力资金流入62...   \n",
       "\n",
       "                                                  链接  \n",
       "0          https://www.eet-china.com/mp/a317347.html  \n",
       "1  https://stock.10jqka.com.cn/20240524/c65817673...  \n",
       "2  http://app.myzaker.com/news/article.php?pk=664...  \n",
       "3  https://baijiahao.baidu.com/s?id=1799839344141...  \n",
       "4               https://www.ithome.com/0/770/056.htm  \n",
       "5  https://wap.eastmoney.com/a/202405233085097059...  \n",
       "6  http://www.myzaker.com/article/664dd1448e9f092...  \n",
       "7  https://baijiahao.baidu.com/s?id=1799747017517...  \n",
       "8  https://baijiahao.baidu.com/s?id=1799751977089...  \n",
       "9  https://baijiahao.baidu.com/s?id=1799737447599...  "
      ]
     },
     "execution_count": 4,
     "metadata": {},
     "output_type": "execute_result"
    }
   ],
   "source": [
    "a = pd.DataFrame(res)\n",
    "a"
   ]
  },
  {
   "cell_type": "code",
   "execution_count": 6,
   "metadata": {},
   "outputs": [
    {
     "data": {
      "text/html": [
       "<div>\n",
       "<style scoped>\n",
       "    .dataframe tbody tr th:only-of-type {\n",
       "        vertical-align: middle;\n",
       "    }\n",
       "\n",
       "    .dataframe tbody tr th {\n",
       "        vertical-align: top;\n",
       "    }\n",
       "\n",
       "    .dataframe thead th {\n",
       "        text-align: right;\n",
       "    }\n",
       "</style>\n",
       "<table border=\"1\" class=\"dataframe\">\n",
       "  <thead>\n",
       "    <tr style=\"text-align: right;\">\n",
       "      <th></th>\n",
       "      <th>标题</th>\n",
       "      <th>来源</th>\n",
       "      <th>日期</th>\n",
       "      <th>简介</th>\n",
       "      <th>链接</th>\n",
       "    </tr>\n",
       "  </thead>\n",
       "  <tbody>\n",
       "    <tr>\n",
       "      <th>0</th>\n",
       "      <td>TCL T7K今日开售,顶级配置尽揽眼前,尽享超凡体验!</td>\n",
       "      <td>太平洋科技</td>\n",
       "      <td>1小时前</td>\n",
       "      <td>T7K不光拥有超硬核的画质技术,还与旗舰产品共享“领曜芯片M2+TXR Mini LED画质...</td>\n",
       "      <td>https://g.pconline.com.cn/x/1743/17439588.html</td>\n",
       "    </tr>\n",
       "    <tr>\n",
       "      <th>1</th>\n",
       "      <td>聚积已量产35ppi Micro LED产品,将推出更高分辨率产品</td>\n",
       "      <td>LEDinside</td>\n",
       "      <td>2小时前</td>\n",
       "      <td>而到了2027年,则有更高阶的127ppi分辨率、以及254ppi分辨率产品要推出。 图片来...</td>\n",
       "      <td>https://www.ledinside.cn/news/20240515-57354.html</td>\n",
       "    </tr>\n",
       "    <tr>\n",
       "      <th>2</th>\n",
       "      <td>TCL将推出搭载MiniLED技术的Google电视新品</td>\n",
       "      <td>LEDinside</td>\n",
       "      <td>3小时前</td>\n",
       "      <td>TCL即将推出一系列搭载Mini LED等先进技术的Google电视新品,其中包括旗舰型号Q...</td>\n",
       "      <td>https://www.ledinside.cn/news/20240515-57352.html</td>\n",
       "    </tr>\n",
       "    <tr>\n",
       "      <th>6</th>\n",
       "      <td>MiniLED概念14日主力净流出1.77亿元,京东方A、TCL科技居前</td>\n",
       "      <td>金融界</td>\n",
       "      <td></td>\n",
       "      <td>MiniLED概念14日主力净流出1.77亿元，京东方A、TCL科技居前 5月14日，Min...</td>\n",
       "      <td>https://baijiahao.baidu.com/s?id=1799012954673...</td>\n",
       "    </tr>\n",
       "  </tbody>\n",
       "</table>\n",
       "</div>"
      ],
      "text/plain": [
       "                                     标题         来源    日期  \\\n",
       "0          TCL T7K今日开售,顶级配置尽揽眼前,尽享超凡体验!      太平洋科技  1小时前   \n",
       "1     聚积已量产35ppi Micro LED产品,将推出更高分辨率产品  LEDinside  2小时前   \n",
       "2          TCL将推出搭载MiniLED技术的Google电视新品  LEDinside  3小时前   \n",
       "6  MiniLED概念14日主力净流出1.77亿元,京东方A、TCL科技居前        金融界         \n",
       "\n",
       "                                                  简介  \\\n",
       "0  T7K不光拥有超硬核的画质技术,还与旗舰产品共享“领曜芯片M2+TXR Mini LED画质...   \n",
       "1  而到了2027年,则有更高阶的127ppi分辨率、以及254ppi分辨率产品要推出。 图片来...   \n",
       "2  TCL即将推出一系列搭载Mini LED等先进技术的Google电视新品,其中包括旗舰型号Q...   \n",
       "6  MiniLED概念14日主力净流出1.77亿元，京东方A、TCL科技居前 5月14日，Min...   \n",
       "\n",
       "                                                  链接  \n",
       "0     https://g.pconline.com.cn/x/1743/17439588.html  \n",
       "1  https://www.ledinside.cn/news/20240515-57354.html  \n",
       "2  https://www.ledinside.cn/news/20240515-57352.html  \n",
       "6  https://baijiahao.baidu.com/s?id=1799012954673...  "
      ]
     },
     "execution_count": 6,
     "metadata": {},
     "output_type": "execute_result"
    }
   ],
   "source": [
    "d = \" \"\n",
    "a[a.日期.str.contains(fr\"小时|{d}\")]"
   ]
  },
  {
   "cell_type": "code",
   "execution_count": null,
   "metadata": {},
   "outputs": [],
   "source": []
  },
  {
   "cell_type": "code",
   "execution_count": 15,
   "metadata": {},
   "outputs": [
    {
     "data": {
      "text/html": [
       "<div>\n",
       "<style scoped>\n",
       "    .dataframe tbody tr th:only-of-type {\n",
       "        vertical-align: middle;\n",
       "    }\n",
       "\n",
       "    .dataframe tbody tr th {\n",
       "        vertical-align: top;\n",
       "    }\n",
       "\n",
       "    .dataframe thead th {\n",
       "        text-align: right;\n",
       "    }\n",
       "</style>\n",
       "<table border=\"1\" class=\"dataframe\">\n",
       "  <thead>\n",
       "    <tr style=\"text-align: right;\">\n",
       "      <th></th>\n",
       "      <th>标题</th>\n",
       "      <th>author</th>\n",
       "      <th>date</th>\n",
       "      <th>des</th>\n",
       "      <th>url</th>\n",
       "      <th>cover</th>\n",
       "    </tr>\n",
       "  </thead>\n",
       "  <tbody>\n",
       "    <tr>\n",
       "      <th>0</th>\n",
       "      <td>TCL T7K今日开售,顶级配置尽揽眼前,尽享超凡体验!</td>\n",
       "      <td>太平洋科技</td>\n",
       "      <td>1小时前</td>\n",
       "      <td>T7K不光拥有超硬核的画质技术,还与旗舰产品共享“领曜芯片M2+TXR Mini LED画质...</td>\n",
       "      <td>https://g.pconline.com.cn/x/1743/17439588.html</td>\n",
       "      <td>https://t7.baidu.com/it/u=3370529243,379520633...</td>\n",
       "    </tr>\n",
       "    <tr>\n",
       "      <th>1</th>\n",
       "      <td>TCL将推出搭载MiniLED技术的Google电视新品</td>\n",
       "      <td>LEDinside</td>\n",
       "      <td>2小时前</td>\n",
       "      <td>TCL即将推出一系列搭载Mini LED等先进技术的Google电视新品,其中包括旗舰型号Q...</td>\n",
       "      <td>https://www.ledinside.cn/news/20240515-57352.html</td>\n",
       "      <td>http://gips1.baidu.com/it/u=876412742,27665553...</td>\n",
       "    </tr>\n",
       "    <tr>\n",
       "      <th>2</th>\n",
       "      <td>鸿利智汇:公司Mini LED背光主要采用的是COB工艺</td>\n",
       "      <td>同花顺财经</td>\n",
       "      <td>昨天17:51</td>\n",
       "      <td>公司回答表示,您好,公司Mini LED背光主要采用的是COB工艺。谢谢。 点击进入互动平台...</td>\n",
       "      <td>http://news.10jqka.com.cn/20240514/c657817259....</td>\n",
       "      <td>None</td>\n",
       "    </tr>\n",
       "    <tr>\n",
       "      <th>3</th>\n",
       "      <td>2024最高质价比TCL T7K Mini LED电视,5月15日开售!</td>\n",
       "      <td>中国网</td>\n",
       "      <td>昨天16:50</td>\n",
       "      <td>在TCL京东和天猫官方旗舰店,预定即送体验金,5月15日TCL T7K最低到到手价3299元...</td>\n",
       "      <td>http://science.china.com.cn/2024-05/14/content...</td>\n",
       "      <td>http://gips0.baidu.com/it/u=2892265558,3501691...</td>\n",
       "    </tr>\n",
       "    <tr>\n",
       "      <th>4</th>\n",
       "      <td>打造MLED生态圈!友达展出单片尺寸最大的31吋MicroLED</td>\n",
       "      <td>电子工程专辑</td>\n",
       "      <td>昨天16:17</td>\n",
       "      <td>第二届中国国际Mini/Micro-LED产业生态大会主办单位:JM Insights、洛图...</td>\n",
       "      <td>https://www.eet-china.com/mp/a314110.html</td>\n",
       "      <td>None</td>\n",
       "    </tr>\n",
       "    <tr>\n",
       "      <th>5</th>\n",
       "      <td>MiniLED概念14日主力净流出1.77亿元,京东方A、TCL科技居前</td>\n",
       "      <td>金融界</td>\n",
       "      <td>None</td>\n",
       "      <td>MiniLED概念14日主力净流出1.77亿元，京东方A、TCL科技居前 5月14日，Min...</td>\n",
       "      <td>https://baijiahao.baidu.com/s?id=1799012954673...</td>\n",
       "      <td>None</td>\n",
       "    </tr>\n",
       "    <tr>\n",
       "      <th>6</th>\n",
       "      <td>国内Mini LED电视市场景气度向好 Vidda等企业围绕AI方向展开竞技</td>\n",
       "      <td>中华网·新闻</td>\n",
       "      <td>昨天14:43</td>\n",
       "      <td>国内Mini LED电视市场景气度向好 Vidda等企业围绕AI方向展开竞技 最近的数据显示...</td>\n",
       "      <td>https://news.china.com/socialgd/10000169/20240...</td>\n",
       "      <td>None</td>\n",
       "    </tr>\n",
       "    <tr>\n",
       "      <th>7</th>\n",
       "      <td>5月14日MiniLED板块涨幅达2%</td>\n",
       "      <td>东方财富网</td>\n",
       "      <td>昨天09:35</td>\n",
       "      <td>5月14日9点31分,MiniLED板块指数报1239.837点,涨幅达2%,成交5.0...</td>\n",
       "      <td>https://finance.eastmoney.com/a/20240514307573...</td>\n",
       "      <td>None</td>\n",
       "    </tr>\n",
       "    <tr>\n",
       "      <th>8</th>\n",
       "      <td>TrendForce集邦咨询:为什么LCD+MiniLED背光才有未来?</td>\n",
       "      <td>电子工程专辑</td>\n",
       "      <td>前天16:33</td>\n",
       "      <td>TrendForce集邦咨询:为什么LCD+MiniLED背光才有未来? ST案例:异构汽车...</td>\n",
       "      <td>https://www.eet-china.com/mp/a313762.html</td>\n",
       "      <td>None</td>\n",
       "    </tr>\n",
       "    <tr>\n",
       "      <th>9</th>\n",
       "      <td>超进化!QD-HVA+MiniLED 打造极致光影体验 — Evnia 27M2N6800M...</td>\n",
       "      <td>ZAKER资讯</td>\n",
       "      <td>前天10:30</td>\n",
       "      <td>今天,我们将评测飞利浦全新游戏显示器子品牌Evnia推出的27M2N6800ML,这是一款配...</td>\n",
       "      <td>http://www.myzaker.com/article/6641b03e8e9f092...</td>\n",
       "      <td>None</td>\n",
       "    </tr>\n",
       "  </tbody>\n",
       "</table>\n",
       "</div>"
      ],
      "text/plain": [
       "                                                  标题     author     date  \\\n",
       "0                       TCL T7K今日开售,顶级配置尽揽眼前,尽享超凡体验!      太平洋科技     1小时前   \n",
       "1                       TCL将推出搭载MiniLED技术的Google电视新品  LEDinside     2小时前   \n",
       "2                       鸿利智汇:公司Mini LED背光主要采用的是COB工艺      同花顺财经  昨天17:51   \n",
       "3               2024最高质价比TCL T7K Mini LED电视,5月15日开售!        中国网  昨天16:50   \n",
       "4                   打造MLED生态圈!友达展出单片尺寸最大的31吋MicroLED     电子工程专辑  昨天16:17   \n",
       "5               MiniLED概念14日主力净流出1.77亿元,京东方A、TCL科技居前        金融界     None   \n",
       "6             国内Mini LED电视市场景气度向好 Vidda等企业围绕AI方向展开竞技     中华网·新闻  昨天14:43   \n",
       "7                                5月14日MiniLED板块涨幅达2%      东方财富网  昨天09:35   \n",
       "8               TrendForce集邦咨询:为什么LCD+MiniLED背光才有未来?     电子工程专辑  前天16:33   \n",
       "9  超进化!QD-HVA+MiniLED 打造极致光影体验 — Evnia 27M2N6800M...    ZAKER资讯  前天10:30   \n",
       "\n",
       "                                                 des  \\\n",
       "0  T7K不光拥有超硬核的画质技术,还与旗舰产品共享“领曜芯片M2+TXR Mini LED画质...   \n",
       "1  TCL即将推出一系列搭载Mini LED等先进技术的Google电视新品,其中包括旗舰型号Q...   \n",
       "2  公司回答表示,您好,公司Mini LED背光主要采用的是COB工艺。谢谢。 点击进入互动平台...   \n",
       "3  在TCL京东和天猫官方旗舰店,预定即送体验金,5月15日TCL T7K最低到到手价3299元...   \n",
       "4  第二届中国国际Mini/Micro-LED产业生态大会主办单位:JM Insights、洛图...   \n",
       "5  MiniLED概念14日主力净流出1.77亿元，京东方A、TCL科技居前 5月14日，Min...   \n",
       "6  国内Mini LED电视市场景气度向好 Vidda等企业围绕AI方向展开竞技 最近的数据显示...   \n",
       "7    5月14日9点31分,MiniLED板块指数报1239.837点,涨幅达2%,成交5.0...   \n",
       "8  TrendForce集邦咨询:为什么LCD+MiniLED背光才有未来? ST案例:异构汽车...   \n",
       "9  今天,我们将评测飞利浦全新游戏显示器子品牌Evnia推出的27M2N6800ML,这是一款配...   \n",
       "\n",
       "                                                 url  \\\n",
       "0     https://g.pconline.com.cn/x/1743/17439588.html   \n",
       "1  https://www.ledinside.cn/news/20240515-57352.html   \n",
       "2  http://news.10jqka.com.cn/20240514/c657817259....   \n",
       "3  http://science.china.com.cn/2024-05/14/content...   \n",
       "4          https://www.eet-china.com/mp/a314110.html   \n",
       "5  https://baijiahao.baidu.com/s?id=1799012954673...   \n",
       "6  https://news.china.com/socialgd/10000169/20240...   \n",
       "7  https://finance.eastmoney.com/a/20240514307573...   \n",
       "8          https://www.eet-china.com/mp/a313762.html   \n",
       "9  http://www.myzaker.com/article/6641b03e8e9f092...   \n",
       "\n",
       "                                               cover  \n",
       "0  https://t7.baidu.com/it/u=3370529243,379520633...  \n",
       "1  http://gips1.baidu.com/it/u=876412742,27665553...  \n",
       "2                                               None  \n",
       "3  http://gips0.baidu.com/it/u=2892265558,3501691...  \n",
       "4                                               None  \n",
       "5                                               None  \n",
       "6                                               None  \n",
       "7                                               None  \n",
       "8                                               None  \n",
       "9                                               None  "
      ]
     },
     "execution_count": 15,
     "metadata": {},
     "output_type": "execute_result"
    }
   ],
   "source": [
    "c = {\"title\":'标题'}\n",
    "a.rename(columns=c)"
   ]
  },
  {
   "cell_type": "code",
   "execution_count": null,
   "metadata": {},
   "outputs": [],
   "source": []
  },
  {
   "cell_type": "code",
   "execution_count": 1,
   "metadata": {},
   "outputs": [],
   "source": [
    "def read_key_words(file_path=\"key_words.md\"):\n",
    "    key_list = []\n",
    "    f = open(file_path, encoding='utf-8')  # 返回一个文件对象\n",
    "    lines = f.readlines()  # 读取全部内容\n",
    "\n",
    "    for line in lines:\n",
    "        # 如果读到空行，就跳过\n",
    "        if line.isspace():\n",
    "            continue\n",
    "        # elif line.startswith('# '):\n",
    "            \n",
    "        # elif line.startswith('## '):\n",
    "\n",
    "    \n",
    "        else:\n",
    "            # 去除文本中的换行等等，可以追加其他操作\n",
    "            line = line.replace(\"\\n\", \"\")\n",
    "            line = line.replace(\"\\t\", \"\")\n",
    "            # 处理完成后的行，追加到列表中\n",
    "            key_list.append(line)\n",
    "    f.close()\n",
    "    return key_list"
   ]
  },
  {
   "cell_type": "code",
   "execution_count": 3,
   "metadata": {},
   "outputs": [
    {
     "data": {
      "text/plain": [
       "['# 竞对企业',\n",
       " '## 黑电',\n",
       " '海信',\n",
       " '小米',\n",
       " 'TCL',\n",
       " '创维',\n",
       " '长虹',\n",
       " '海尔',\n",
       " '华为',\n",
       " '索尼',\n",
       " '三星',\n",
       " '夏普',\n",
       " '飞利浦',\n",
       " '## 白电',\n",
       " '海尔',\n",
       " '美的',\n",
       " '格力',\n",
       " '卡萨帝',\n",
       " '松下',\n",
       " '西门子',\n",
       " '容声',\n",
       " 'LG',\n",
       " '美菱',\n",
       " '## 半导体',\n",
       " '京东方',\n",
       " '天马微电子',\n",
       " '华灿光电',\n",
       " '辰显光电',\n",
       " '# 关键词',\n",
       " '## 品类',\n",
       " '电视',\n",
       " '空调',\n",
       " '冰箱',\n",
       " '洗衣机',\n",
       " '洗碗机',\n",
       " '## 其他大类',\n",
       " '家电',\n",
       " '智能家电',\n",
       " '智能电器',\n",
       " '家电家居',\n",
       " '以旧换新',\n",
       " '## 具体：电视',\n",
       " 'MLED',\n",
       " 'Mini LED',\n",
       " 'Mini直显',\n",
       " '千级分区',\n",
       " 'Micro LED',\n",
       " '白光Mini LED',\n",
       " '峰值亮度',\n",
       " '量子膜',\n",
       " '星闪通信',\n",
       " '画质芯片',\n",
       " 'wifi7',\n",
       " '## 具体：冰箱',\n",
       " '嵌入式 冰箱',\n",
       " '零嵌 冰箱',\n",
       " '超薄 冰箱',\n",
       " '十字 冰箱',\n",
       " '法式',\n",
       " '对开',\n",
       " '大容量',\n",
       " '## 半导体',\n",
       " '巨量转移',\n",
       " '巨量转移及修补',\n",
       " '巨量检测',\n",
       " 'Micro芯片',\n",
       " 'Mini芯片',\n",
       " '外延',\n",
       " '显示基板',\n",
       " '大屏拼接',\n",
       " '## 前沿技术',\n",
       " '5G',\n",
       " '8K',\n",
       " '人工智能',\n",
       " 'AI',\n",
       " '大模型',\n",
       " '云计算']"
      ]
     },
     "execution_count": 3,
     "metadata": {},
     "output_type": "execute_result"
    }
   ],
   "source": [
    "key_list = read_key_words()\n",
    "key_list"
   ]
  },
  {
   "cell_type": "code",
   "execution_count": 24,
   "metadata": {},
   "outputs": [],
   "source": [
    "a = [{'竞对企业': \n",
    "  [{'kw': 'xxx', \n",
    "   'cg': '黑电',\n",
    "   'detal': [{'标题': '111', 'url': 'xxss'},\n",
    "             {'标题': '222', 'url': 'sfas'}]},\n",
    "    {'kw': 'xx',\n",
    "     'cg': '黑电',\n",
    "     'detal': [{'标题': '333', 'url': 'xxsss'},\n",
    "             {'标题': '444', 'url': 'sf4as'}]\n",
    "    }\n",
    "  ]},\n",
    "\n",
    "]"
   ]
  },
  {
   "cell_type": "code",
   "execution_count": 34,
   "metadata": {},
   "outputs": [
    {
     "name": "stdout",
     "output_type": "stream",
     "text": [
      "竞对企业\n",
      "[{'kw': 'xxx', 'cg': '黑电', 'detal': []}, {'kw': 'xx', 'cg': '黑电', 'detal': []}]\n"
     ]
    }
   ],
   "source": [
    "for k, v in a[0].items():\n",
    "    print(k)\n",
    "    print(v)"
   ]
  },
  {
   "cell_type": "code",
   "execution_count": 3,
   "metadata": {},
   "outputs": [
    {
     "data": {
      "text/plain": [
       "{'_1', '_i2', '_i3', 'a', 'code_str1', 'global_vars_before'}"
      ]
     },
     "execution_count": 3,
     "metadata": {},
     "output_type": "execute_result"
    }
   ],
   "source": [
    "global_vars_after = set(g.keys())\n",
    "new_vars = global_vars_after - global_vars_before\n",
    "new_vars"
   ]
  },
  {
   "cell_type": "code",
   "execution_count": 4,
   "metadata": {},
   "outputs": [
    {
     "name": "stdout",
     "output_type": "stream",
     "text": [
      "4\n"
     ]
    }
   ],
   "source": [
    "code = 'result = 2 + 2'\n",
    "local_vars = {}\n",
    "exec(code, globals(), local_vars)\n",
    "result = local_vars['result']\n",
    "print(result)"
   ]
  },
  {
   "cell_type": "code",
   "execution_count": 5,
   "metadata": {},
   "outputs": [
    {
     "name": "stdout",
     "output_type": "stream",
     "text": [
      "4\n"
     ]
    }
   ],
   "source": [
    "code = 'result = 2 + 2'\n",
    "global_vars = {}\n",
    "exec(code, global_vars)\n",
    "result = global_vars['result']\n",
    "print(result)"
   ]
  },
  {
   "cell_type": "code",
   "execution_count": 12,
   "metadata": {},
   "outputs": [],
   "source": [
    "def a():\n",
    "    b = 3\n",
    "    code = 'result = 2 + 2'\n",
    "    global_vars = {}\n",
    "    exec(code, locals(), global_vars)\n",
    "    print(global_vars)"
   ]
  },
  {
   "cell_type": "code",
   "execution_count": 13,
   "metadata": {},
   "outputs": [
    {
     "name": "stdout",
     "output_type": "stream",
     "text": [
      "{'result': 4}\n"
     ]
    }
   ],
   "source": [
    "a()\n"
   ]
  },
  {
   "cell_type": "code",
   "execution_count": null,
   "metadata": {},
   "outputs": [],
   "source": []
  },
  {
   "cell_type": "code",
   "execution_count": null,
   "metadata": {},
   "outputs": [],
   "source": []
  },
  {
   "cell_type": "code",
   "execution_count": 2,
   "metadata": {},
   "outputs": [],
   "source": [
    "import pandas as pd\n",
    "from openpyxl import load_workbook\n",
    "\n",
    "def append_to_excel(file_path, sheet_name, data_frame):\n",
    "    try:\n",
    "        # 尝试加载已存在的Excel文件\n",
    "        book = load_workbook(file_path)\n",
    "        \n",
    "        if sheet_name in book.sheetnames:\n",
    "            with pd.ExcelWriter(file_path, engine='openpyxl', mode='a', if_sheet_exists='overlay') as writer:\n",
    "                writer.book = book\n",
    "                writer.sheets = {ws.title: ws for ws in book.worksheets}\n",
    "                startrow = writer.sheets[sheet_name].max_row\n",
    "                data_frame.to_excel(writer, sheet_name=sheet_name, index=False, header=False, startrow=startrow)\n",
    "        else:\n",
    "            with pd.ExcelWriter(file_path, engine='openpyxl', mode='a') as writer:\n",
    "                writer.book = book\n",
    "                writer.sheets = {ws.title: ws for ws in book.worksheets}\n",
    "                data_frame.to_excel(writer, sheet_name=sheet_name, index=False)\n",
    "    except FileNotFoundError:\n",
    "        # 如果Excel文件不存在，则创建新的文件和sheet页\n",
    "        with pd.ExcelWriter(file_path, engine='openpyxl') as writer:\n",
    "            data_frame.to_excel(writer, sheet_name=sheet_name, index=False)\n",
    "\n",
    "# 示例数据\n",
    "data = {\n",
    "    'Name': ['Alice', 'Bob', 'Charlie'],\n",
    "    'Age': [25, 30, 35]\n",
    "}\n",
    "df = pd.DataFrame(data)\n",
    "\n",
    "# 文件路径和sheet页名称\n",
    "file_path = 'example.xlsx'\n",
    "sheet_name = 'SheetA'\n",
    "\n",
    "# 调用函数写入数据\n",
    "append_to_excel(file_path, sheet_name, df)\n"
   ]
  },
  {
   "cell_type": "code",
   "execution_count": null,
   "metadata": {},
   "outputs": [],
   "source": []
  },
  {
   "cell_type": "code",
   "execution_count": 4,
   "metadata": {},
   "outputs": [],
   "source": [
    "import requests\n",
    "from pathlib import Path\n",
    "import time\n",
    "import sys\n",
    "import os\n",
    "import io\n",
    "import re\n",
    "import argparse\n",
    "import random\n",
    "\n",
    "\n",
    "from bs4 import BeautifulSoup\n",
    "import pandas as pd\n",
    "\n",
    "from utils import sleep_time, now, MyHeaders, logger, timeout, get_date, append_sheet_to_excel"
   ]
  },
  {
   "cell_type": "code",
   "execution_count": 65,
   "metadata": {},
   "outputs": [],
   "source": [
    "def get_bs(url):\n",
    "    headers = {'User-Agent': random.choice(MyHeaders)}\n",
    "    response = requests.get(url, headers=headers, verify=False)\n",
    "    response.encoding = 'utf-8'\n",
    "    bs = BeautifulSoup(response.text, 'html5lib')\n",
    "\n",
    "    return bs, response"
   ]
  },
  {
   "cell_type": "code",
   "execution_count": 89,
   "metadata": {},
   "outputs": [
    {
     "name": "stderr",
     "output_type": "stream",
     "text": [
      "/home/zouyou/anaconda3/envs/spider/lib/python3.9/site-packages/urllib3/connectionpool.py:1061: InsecureRequestWarning: Unverified HTTPS request is being made to host 'www.elecfans.com'. Adding certificate verification is strongly advised. See: https://urllib3.readthedocs.io/en/1.26.x/advanced-usage.html#ssl-warnings\n",
      "  warnings.warn(\n"
     ]
    }
   ],
   "source": [
    "url_index = \"https://www.elecfans.com/news/hangye/\"\n",
    "\n",
    "# 访问链接\n",
    "bs, response = get_bs(url_index)\n",
    "text_list = bs.select('.a-title a')\n",
    "time_list = bs.select('.summary-ft span:nth-of-type(2)')"
   ]
  },
  {
   "cell_type": "code",
   "execution_count": 83,
   "metadata": {},
   "outputs": [
    {
     "data": {
      "text/plain": [
       "[<a href=\"https://www.elecfans.com/d/3882032.html\" target=\"_blank\" title=\"人形机器人的理想与现实\"><b>人形机器人的理想与现实</b></a>,\n",
       " <a href=\"https://www.elecfans.com/d/3876825.html\" target=\"_blank\" title=\"2.5D/3D封装技术升级，拉高AI芯片性能天花板\">2.5D/3D封装技术升级，拉高AI芯片性能天花板</a>,\n",
       " <a href=\"https://www.elecfans.com/d/3876823.html\" target=\"_blank\" title=\"5G和AI加持！智物联跃上新台阶，海思、芯昇和乐鑫新品汇总\">5G和AI加持！智物联跃上新台阶，海思、芯昇和乐鑫新品汇总</a>,\n",
       " <a href=\"https://www.elecfans.com/d/3876824.html\" target=\"_blank\" title=\"AI高性能“运力”芯片新产品进展，规模出货大幅提升业绩\">AI高性能“运力”芯片新产品进展，规模出货大幅提升业绩</a>,\n",
       " <a href=\"https://www.elecfans.com/d/3876733.html\" target=\"_blank\" title=\"维持BMS电池电荷状态的电池均衡电路\">维持BMS电池电荷状态的电池均衡电路</a>,\n",
       " <a href=\"https://www.elecfans.com/d/3876730.html\" target=\"_blank\" title=\"作为电池管理系统核心的AFE\">作为电池管理系统核心的AFE</a>,\n",
       " <a href=\"https://www.elecfans.com/d/3850722.html\" target=\"_blank\" title=\"视觉传感器助力机器人“看到”并理解周围世界\">视觉传感器助力机器人“看到”并理解周围世界</a>,\n",
       " <a href=\"https://www.elecfans.com/d/3850811.html\" target=\"_blank\" title=\"机构预测2030年七成蜂窝通信设备支持eSIM/iSIM，相关芯片和模组迎巨大机遇\">机构预测2030年七成蜂窝通信设备支持eSIM/iSIM，相关芯片和模组迎巨大机遇</a>,\n",
       " <a href=\"https://www.elecfans.com/d/3850814.html\" target=\"_blank\" title=\"集成化、低成本，舱驾一体芯片趋势已来\">集成化、低成本，舱驾一体芯片趋势已来</a>,\n",
       " <a href=\"https://www.elecfans.com/d/3850816.html\" target=\"_blank\" title=\"储能系统中，要如何选择好的温度传感器\">储能系统中，要如何选择好的温度传感器</a>,\n",
       " <a href=\"https://www.elecfans.com/d/3866687.html\" target=\"_blank\" title=\"AI加持性能翻倍，芯片厂商进入差异化竞争阶段！Wi-Fi 7将迎出货高峰\">AI加持性能翻倍，芯片厂商进入差异化竞争阶段！Wi-Fi 7将迎出货高峰</a>,\n",
       " <a href=\"https://www.elecfans.com/d/3825493.html\" target=\"_blank\" title=\"性能杀手锏！台积电3nm工艺迭代，新一代手机芯片交战\">性能杀手锏！台积电3nm工艺迭代，新一代手机芯片交战</a>,\n",
       " <a href=\"https://www.elecfans.com/d/3825496.html\" target=\"_blank\" title=\"DSP在储能设备中将从选配迈向标配\">DSP在储能设备中将从选配迈向标配</a>,\n",
       " <a href=\"https://www.elecfans.com/d/3825497.html\" target=\"_blank\" title=\"Matter进化至1.3版本！支持更多芯片平台、终端，产业链玩家加速布局\">Matter进化至1.3版本！支持更多芯片平台、终端，产业链玩家加速布局</a>,\n",
       " <a href=\"https://www.elecfans.com/d/3825953.html\" target=\"_blank\" title=\"发力CGM和车规低功耗蓝牙新赛道 汇顶科技亮相2024慕尼黑上海电子展\"><b>发力CGM和车规低功耗蓝牙新赛道 汇顶科技亮相2024慕尼黑上海电子展</b></a>,\n",
       " <a href=\"https://www.elecfans.com/d/3825499.html\" target=\"_blank\" title=\"通信大模型再添新秀！中兴发布星云通信大模型，网络高阶自智加速器\">通信大模型再添新秀！中兴发布星云通信大模型，网络高阶自智加速器</a>,\n",
       " <a href=\"https://www.elecfans.com/d/3825584.html\" target=\"_blank\" title=\"用光电混合突破算力边界，WAIC上这家企业大秀肌肉\">用光电混合突破算力边界，WAIC上这家企业大秀肌肉</a>,\n",
       " <a href=\"https://www.elecfans.com/d/3804954.html\" target=\"_blank\" title=\"光子计算芯片最新突破，峰值算力超1000tops，比电芯片更适合大模型\">光子计算芯片最新突破，峰值算力超1000tops，比电芯片更适合大模型</a>,\n",
       " <a href=\"https://www.elecfans.com/d/3845922.html\" target=\"_blank\" title=\"华为如何助力金融大模型开出价值之花\"><b>华为如何助力金融大模型开出价值之花</b></a>,\n",
       " <a href=\"https://www.elecfans.com/d/3793593.html\" target=\"_blank\" title=\"芯片、模型生态分散，无问芯穹、沐曦、壁仞谈国产算力瓶颈破局之道\">芯片、模型生态分散，无问芯穹、沐曦、壁仞谈国产算力瓶颈破局之道</a>,\n",
       " <a href=\"https://www.elecfans.com/d/3046304.html\" target=\"_blank\" title=\"氢能无人机新品相继亮相，动力系统产业链玩家加码布局\">氢能无人机新品相继亮相，动力系统产业链玩家加码布局</a>,\n",
       " <a href=\"https://www.elecfans.com/d/3804783.html\" target=\"_blank\" title=\"电动汽车储能技术开始崭露头角\">电动汽车储能技术开始崭露头角</a>,\n",
       " <a href=\"https://www.elecfans.com/d/3805296.html\" target=\"_blank\" title=\"LE Audio音频技术助推影音、助听市场，蓝牙+助听芯片成为趋势\">LE Audio音频技术助推影音、助听市场，蓝牙+助听芯片成为趋势</a>,\n",
       " <a href=\"https://www.elecfans.com/d/3805125.html\" target=\"_blank\" title=\"可穿戴芯片进阶至3nm！Exynos W1000用上了面板级封装，集成度更高\">可穿戴芯片进阶至3nm！Exynos W1000用上了面板级封装，集成度更高</a>,\n",
       " <a href=\"https://www.elecfans.com/d/3751417.html\" target=\"_blank\" title=\"AI PC存储：多通道支持PCIe 5.0，PCIe 5.0 SSD越来越能打\">AI PC存储：多通道支持PCIe 5.0，PCIe 5.0 SSD越来越能打</a>,\n",
       " <a href=\"https://www.elecfans.com/d/3804611.html\" target=\"_blank\" title=\"在混合电源设计上，Si、SiC、GaN如何各司其职？\">在混合电源设计上，Si、SiC、GaN如何各司其职？</a>,\n",
       " <a href=\"https://www.elecfans.com/d/3795871.html\" target=\"_blank\" title=\"李彦宏，要让AI走正道，见众生\"><b>李彦宏，要让AI走正道，见众生</b></a>,\n",
       " <a href=\"https://www.elecfans.com/d/3775694.html\" target=\"_blank\" title=\"中科曙光：新智生产力引擎，是一台精密的AI发动机\"><b>中科曙光：新智生产力引擎，是一台精密的AI发动机</b></a>,\n",
       " <a href=\"https://www.elecfans.com/d/3725967.html\" target=\"_blank\" title=\"效率最高达99%，光储一体系统中不可或缺的MPPT芯片\">效率最高达99%，光储一体系统中不可或缺的MPPT芯片</a>,\n",
       " <a href=\"https://www.elecfans.com/d/3726056.html\" target=\"_blank\" title=\"5G通信大赢家？除了FPGA外，AMD 5G射频产品让人眼前一亮\">5G通信大赢家？除了FPGA外，AMD 5G射频产品让人眼前一亮</a>,\n",
       " <a href=\"https://www.elecfans.com/d/3896098.html\" target=\"_blank\" title=\"埃森哲强化芯片设计能力，收购印度半导体设计服务商Excelmax\">埃森哲强化芯片设计能力，收购印度半导体设计服务商Excelmax</a>,\n",
       " <a href=\"https://www.elecfans.com/d/3895998.html\" target=\"_blank\" title=\"科达嘉电子出席2024慕尼黑上海电子展\">科达嘉电子出席2024慕尼黑上海电子展</a>,\n",
       " <a href=\"https://www.elecfans.com/d/3895993.html\" target=\"_blank\" title=\"紫光国芯携存储系列产品出席2024慕尼黑上海电子展\">紫光国芯携存储系列产品出席2024慕尼黑上海电子展</a>,\n",
       " <a href=\"https://www.elecfans.com/d/3895899.html\" target=\"_blank\" title=\"晶丰明源携多款产品及解决方案出席2024慕尼黑上海电子展\">晶丰明源携多款产品及解决方案出席2024慕尼黑上海电子展</a>,\n",
       " <a href=\"https://www.elecfans.com/d/3895806.html\" target=\"_blank\" title=\"四维图新助力上汽通用五菱搭建智能充电运营管理平台\">四维图新助力上汽通用五菱搭建智能充电运营管理平台</a>,\n",
       " <a href=\"https://www.elecfans.com/d/3895705.html\" target=\"_blank\" title=\"东软睿驰与中国移动上海产业研究院达成战略合作\">东软睿驰与中国移动上海产业研究院达成战略合作</a>,\n",
       " <a href=\"https://www.elecfans.com/d/3895702.html\" target=\"_blank\" title=\"AMD巨资收购Silo AI，加速AI生态布局\">AMD巨资收购Silo AI，加速AI生态布局</a>,\n",
       " <a href=\"https://www.elecfans.com/d/3895507.html\" target=\"_blank\" title=\"夏普携手Aoi进军先进封装市场\">夏普携手Aoi进军先进封装市场</a>,\n",
       " <a href=\"https://www.elecfans.com/d/3895412.html\" target=\"_blank\" title=\"CoWoS封装产能飙升：2024年底月产将破4.5万片，云端AI需求驱动扩产潮\">CoWoS封装产能飙升：2024年底月产将破4.5万片，云端AI需求驱动扩产潮</a>,\n",
       " <a href=\"https://www.elecfans.com/d/3895410.html\" target=\"_blank\" title=\"新施诺半导体获数亿A轮融资，用于第五代天车迭代研发与量产\">新施诺半导体获数亿A轮融资，用于第五代天车迭代研发与量产</a>,\n",
       " <a href=\"https://www.elecfans.com/d/3895120.html\" target=\"_blank\" title=\"帝奥微出席2024慕尼黑上海电子展\">帝奥微出席2024慕尼黑上海电子展</a>,\n",
       " <a href=\"https://www.elecfans.com/d/3895004.html\" target=\"_blank\" title=\"泰克科技出席2024慕尼黑电子展\">泰克科技出席2024慕尼黑电子展</a>,\n",
       " <a href=\"https://www.elecfans.com/d/3894809.html\" target=\"_blank\" title=\"Microchip发布多核64位微处理器系列产品\">Microchip发布多核64位微处理器系列产品</a>,\n",
       " <a href=\"https://www.elecfans.com/d/3894806.html\" target=\"_blank\" title=\"上扬软件与晶澳科技达成合作，推动光伏产业智能化发展\">上扬软件与晶澳科技达成合作，推动光伏产业智能化发展</a>,\n",
       " <a href=\"https://www.elecfans.com/d/3894505.html\" target=\"_blank\" title=\"圣邦微电子出席2024慕尼黑上海电子展\">圣邦微电子出席2024慕尼黑上海电子展</a>,\n",
       " <a href=\"https://www.elecfans.com/d/3894301.html\" target=\"_blank\" title=\"海伯森出席VisionChina上海机器视觉展\">海伯森出席VisionChina上海机器视觉展</a>,\n",
       " <a href=\"https://www.elecfans.com/d/3894300.html\" target=\"_blank\" title=\"兆易创新上半年业绩飙升，净利润同比大增54.18%\">兆易创新上半年业绩飙升，净利润同比大增54.18%</a>,\n",
       " <a href=\"https://www.elecfans.com/d/3894201.html\" target=\"_blank\" title=\"AMD光线追踪专家加盟高通，共筑Adreno GPU性能新高度\">AMD光线追踪专家加盟高通，共筑Adreno GPU性能新高度</a>,\n",
       " <a href=\"https://www.elecfans.com/d/3894200.html\" target=\"_blank\" title=\"低碳化、数字化推动可持续发展 英飞凌亮相2024慕尼黑上海电子展\"><b>低碳化、数字化推动可持续发展 英飞凌亮相2024慕尼黑上海电子展</b></a>,\n",
       " <a href=\"https://www.elecfans.com/d/3894108.html\" target=\"_blank\" title=\"台积电产能分化：6/7nm降价应对低利用率，3/5nm涨价因供不应求\">台积电产能分化：6/7nm降价应对低利用率，3/5nm涨价因供不应求</a>]"
      ]
     },
     "execution_count": 83,
     "metadata": {},
     "output_type": "execute_result"
    }
   ],
   "source": [
    "len(text_list)\n",
    "text_list"
   ]
  },
  {
   "cell_type": "code",
   "execution_count": 90,
   "metadata": {},
   "outputs": [
    {
     "data": {
      "text/plain": [
       "[<span class=\"a-time\">2024-07-10</span>,\n",
       " <span class=\"a-time\">2024-07-11</span>,\n",
       " <span class=\"a-time\">2024-07-11</span>,\n",
       " <span class=\"a-time\">2024-07-11</span>,\n",
       " <span class=\"a-time\">2024-07-11</span>,\n",
       " <span class=\"a-time\">2024-07-11</span>,\n",
       " <span class=\"a-time\">2024-07-10</span>,\n",
       " <span class=\"a-time\">2024-07-10</span>,\n",
       " <span class=\"a-time\">2024-07-10</span>,\n",
       " <span class=\"a-time\">2024-07-10</span>,\n",
       " <span class=\"a-time\">2024-07-10</span>,\n",
       " <span class=\"a-time\">2024-07-09</span>,\n",
       " <span class=\"a-time\">2024-07-09</span>,\n",
       " <span class=\"a-time\">2024-07-09</span>,\n",
       " <span class=\"a-time\">2024-07-08</span>,\n",
       " <span class=\"a-time\">2024-07-09</span>,\n",
       " <span class=\"a-time\">2024-07-09</span>,\n",
       " <span class=\"a-time\">2024-07-08</span>,\n",
       " <span class=\"a-time\">2024-07-09</span>,\n",
       " <span class=\"a-time\">2024-07-07</span>,\n",
       " <span class=\"a-time\">2024-06-02</span>,\n",
       " <span class=\"a-time\">2024-07-08</span>,\n",
       " <span class=\"a-time\">2024-07-08</span>,\n",
       " <span class=\"a-time\">2024-07-08</span>,\n",
       " <span class=\"a-time\">2024-07-06</span>,\n",
       " <span class=\"a-time\">2024-07-08</span>,\n",
       " <span class=\"a-time\">2024-07-08</span>,\n",
       " <span class=\"a-time\">2024-07-06</span>,\n",
       " <span class=\"a-time\">2024-07-05</span>,\n",
       " <span class=\"a-time\">2024-07-05</span>,\n",
       " <span class=\"a-time\">2024-07-11</span>,\n",
       " <span class=\"a-time\">2024-07-11</span>,\n",
       " <span class=\"a-time\">2024-07-11</span>,\n",
       " <span class=\"a-time\">2024-07-11</span>,\n",
       " <span class=\"a-time\">2024-07-11</span>,\n",
       " <span class=\"a-time\">2024-07-11</span>,\n",
       " <span class=\"a-time\">2024-07-11</span>,\n",
       " <span class=\"a-time\">2024-07-11</span>,\n",
       " <span class=\"a-time\">2024-07-11</span>,\n",
       " <span class=\"a-time\">2024-07-11</span>,\n",
       " <span class=\"a-time\">2024-07-11</span>,\n",
       " <span class=\"a-time\">2024-07-11</span>,\n",
       " <span class=\"a-time\">2024-07-11</span>,\n",
       " <span class=\"a-time\">2024-07-11</span>,\n",
       " <span class=\"a-time\">2024-07-11</span>,\n",
       " <span class=\"a-time\">2024-07-11</span>,\n",
       " <span class=\"a-time\">2024-07-11</span>,\n",
       " <span class=\"a-time\">2024-07-11</span>,\n",
       " <span class=\"a-time\">2024-07-11</span>,\n",
       " <span class=\"a-time\">2024-07-11</span>]"
      ]
     },
     "execution_count": 90,
     "metadata": {},
     "output_type": "execute_result"
    }
   ],
   "source": [
    "date = time_list\n",
    "date"
   ]
  },
  {
   "cell_type": "code",
   "execution_count": 92,
   "metadata": {},
   "outputs": [
    {
     "data": {
      "text/plain": [
       "50"
      ]
     },
     "execution_count": 92,
     "metadata": {},
     "output_type": "execute_result"
    }
   ],
   "source": [
    "len(time_list)"
   ]
  },
  {
   "cell_type": "code",
   "execution_count": 96,
   "metadata": {},
   "outputs": [
    {
     "data": {
      "text/plain": [
       "'https://www.elecfans.com/d/3882032.html'"
      ]
     },
     "execution_count": 96,
     "metadata": {},
     "output_type": "execute_result"
    }
   ],
   "source": [
    "text_list[0]['href']"
   ]
  },
  {
   "cell_type": "code",
   "execution_count": 73,
   "metadata": {},
   "outputs": [
    {
     "data": {
      "text/plain": [
       "<span class=\"footer-bar-action\"> 2024-07-11 13:58</span>"
      ]
     },
     "execution_count": 73,
     "metadata": {},
     "output_type": "execute_result"
    }
   ],
   "source": [
    "time_list[0]"
   ]
  },
  {
   "cell_type": "code",
   "execution_count": null,
   "metadata": {},
   "outputs": [],
   "source": []
  }
 ],
 "metadata": {
  "kernelspec": {
   "display_name": "spider",
   "language": "python",
   "name": "python3"
  },
  "language_info": {
   "codemirror_mode": {
    "name": "ipython",
    "version": 3
   },
   "file_extension": ".py",
   "mimetype": "text/x-python",
   "name": "python",
   "nbconvert_exporter": "python",
   "pygments_lexer": "ipython3",
   "version": "3.9.18"
  }
 },
 "nbformat": 4,
 "nbformat_minor": 2
}
