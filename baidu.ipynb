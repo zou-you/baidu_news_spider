{
 "cells": [
  {
   "cell_type": "code",
   "execution_count": 1,
   "metadata": {},
   "outputs": [],
   "source": [
    "# 导入BaiduSpider\n",
    "from baiduspider import BaiduSpider\n",
    "from pprint import pprint\n",
    "\n",
    "# 实例化BaiduSpider\n",
    "spider = BaiduSpider()"
   ]
  },
  {
   "cell_type": "code",
   "execution_count": 2,
   "metadata": {},
   "outputs": [],
   "source": [
    "from baiduspider import BaiduSpider\n",
    "\n",
    "spider = BaiduSpider()\n",
    "\n",
    "res = spider.search_news(query='miniLED', sort_by=\"time\")\n",
    "res = res.plain"
   ]
  },
  {
   "cell_type": "code",
   "execution_count": 3,
   "metadata": {},
   "outputs": [],
   "source": [
    "import pandas as pd"
   ]
  },
  {
   "cell_type": "code",
   "execution_count": 4,
   "metadata": {},
   "outputs": [
    {
     "data": {
      "text/html": [
       "<div>\n",
       "<style scoped>\n",
       "    .dataframe tbody tr th:only-of-type {\n",
       "        vertical-align: middle;\n",
       "    }\n",
       "\n",
       "    .dataframe tbody tr th {\n",
       "        vertical-align: top;\n",
       "    }\n",
       "\n",
       "    .dataframe thead th {\n",
       "        text-align: right;\n",
       "    }\n",
       "</style>\n",
       "<table border=\"1\" class=\"dataframe\">\n",
       "  <thead>\n",
       "    <tr style=\"text-align: right;\">\n",
       "      <th></th>\n",
       "      <th>标题</th>\n",
       "      <th>来源</th>\n",
       "      <th>日期</th>\n",
       "      <th>简介</th>\n",
       "      <th>链接</th>\n",
       "    </tr>\n",
       "  </thead>\n",
       "  <tbody>\n",
       "    <tr>\n",
       "      <th>0</th>\n",
       "      <td>投资25.7亿!韩国政府支持MicroLED研发及生态系统建设</td>\n",
       "      <td>电子工程专辑</td>\n",
       "      <td>昨天09:58</td>\n",
       "      <td>5月30-31日,集摩咨询(JM Insights)联手洛图科技(TUNTO)、WitDis...</td>\n",
       "      <td>https://www.eet-china.com/mp/a317347.html</td>\n",
       "    </tr>\n",
       "    <tr>\n",
       "      <th>1</th>\n",
       "      <td>概念动态|汇创达新增“MiniLED”概念</td>\n",
       "      <td>同花顺</td>\n",
       "      <td>3天前</td>\n",
       "      <td>概念动态|汇创达新增“MiniLED”概念 2024年5月24日,汇创达(300909)新增...</td>\n",
       "      <td>https://stock.10jqka.com.cn/20240524/c65817673...</td>\n",
       "    </tr>\n",
       "    <tr>\n",
       "      <th>2</th>\n",
       "      <td>瑞丰光电:公司MiniLED产品目前主要采用的是COB方案,对玻璃基板...</td>\n",
       "      <td>ZAKER</td>\n",
       "      <td>4天前</td>\n",
       "      <td>公司是专业从事 LED 封装及提供相关解决方案的国家级高新技术企业,公司业务大类主要分为 L...</td>\n",
       "      <td>http://app.myzaker.com/news/article.php?pk=664...</td>\n",
       "    </tr>\n",
       "    <tr>\n",
       "      <th>3</th>\n",
       "      <td>瑞丰光电(300241.SZ):公司MiniLED产品目前主要采用的是COB方案</td>\n",
       "      <td>格隆汇</td>\n",
       "      <td>4天前</td>\n",
       "      <td>格隆汇5月23日丨瑞丰光电(300241.SZ)在投资者互动平台表示，公司MiniLED产品...</td>\n",
       "      <td>https://baijiahao.baidu.com/s?id=1799839344141...</td>\n",
       "    </tr>\n",
       "    <tr>\n",
       "      <th>4</th>\n",
       "      <td>65W Type-C + Mini LED:联合创新 27 英寸 4K 显示器 1470 元...</td>\n",
       "      <td>IT之家</td>\n",
       "      <td>4天前</td>\n",
       "      <td>京东联合创新 27 英寸 4K MiniLED 显示器27M2U-D折后 1470.51 元...</td>\n",
       "      <td>https://www.ithome.com/0/770/056.htm</td>\n",
       "    </tr>\n",
       "    <tr>\n",
       "      <th>5</th>\n",
       "      <td>5月23日MiniLED板块跌幅达2%</td>\n",
       "      <td>东方财富网</td>\n",
       "      <td>4天前</td>\n",
       "      <td>5月23日10点4分,MiniLED 板块指数报1295.209点,跌幅达2%,成交46...</td>\n",
       "      <td>https://wap.eastmoney.com/a/202405233085097059...</td>\n",
       "    </tr>\n",
       "    <tr>\n",
       "      <th>6</th>\n",
       "      <td>聚灿光电:公司 Mini LED 产品主要应用领域为背光和显示,感谢您的...</td>\n",
       "      <td>ZAKER资讯</td>\n",
       "      <td>5天前</td>\n",
       "      <td>投资者:董秘你好,贵公司 Mini LED 背光产品是否在玻璃基板领域也有所布局和发展?或者...</td>\n",
       "      <td>http://www.myzaker.com/article/664dd1448e9f092...</td>\n",
       "    </tr>\n",
       "    <tr>\n",
       "      <th>7</th>\n",
       "      <td>BOE(京东方)独供明基首款玻璃基主动式Mini LED显示器重磅发布</td>\n",
       "      <td>华商韬略</td>\n",
       "      <td>5天前</td>\n",
       "      <td>近日，明基（BenQ）首款玻璃基主动式Mini LED高端系列显示器MOBIUZ EX321...</td>\n",
       "      <td>https://baijiahao.baidu.com/s?id=1799747017517...</td>\n",
       "    </tr>\n",
       "    <tr>\n",
       "      <th>8</th>\n",
       "      <td>雷鸟Q7 27寸显示器开售:2K 240Hz QD-Mini LED屏首发1999元</td>\n",
       "      <td>快科技</td>\n",
       "      <td>5天前</td>\n",
       "      <td>快科技5月22日消息，雷鸟Q7显示器目前已经开售，2K 240Hz QD-MiniLED屏幕...</td>\n",
       "      <td>https://baijiahao.baidu.com/s?id=1799751977089...</td>\n",
       "    </tr>\n",
       "    <tr>\n",
       "      <th>9</th>\n",
       "      <td>MiniLED概念22日主力净流入6238.2万元,TCL科技、雷曼光电居前</td>\n",
       "      <td>金融界</td>\n",
       "      <td>5天前</td>\n",
       "      <td>TCL科技、雷曼光电居前 5月22日，MiniLED概念上涨1.68%，今日主力资金流入62...</td>\n",
       "      <td>https://baijiahao.baidu.com/s?id=1799737447599...</td>\n",
       "    </tr>\n",
       "  </tbody>\n",
       "</table>\n",
       "</div>"
      ],
      "text/plain": [
       "                                                  标题       来源       日期  \\\n",
       "0                    投资25.7亿!韩国政府支持MicroLED研发及生态系统建设   电子工程专辑  昨天09:58   \n",
       "1                              概念动态|汇创达新增“MiniLED”概念      同花顺      3天前   \n",
       "2             瑞丰光电:公司MiniLED产品目前主要采用的是COB方案,对玻璃基板...    ZAKER      4天前   \n",
       "3           瑞丰光电(300241.SZ):公司MiniLED产品目前主要采用的是COB方案      格隆汇      4天前   \n",
       "4  65W Type-C + Mini LED:联合创新 27 英寸 4K 显示器 1470 元...     IT之家      4天前   \n",
       "5                                5月23日MiniLED板块跌幅达2%    东方财富网      4天前   \n",
       "6            聚灿光电:公司 Mini LED 产品主要应用领域为背光和显示,感谢您的...  ZAKER资讯      5天前   \n",
       "7                BOE(京东方)独供明基首款玻璃基主动式Mini LED显示器重磅发布     华商韬略      5天前   \n",
       "8         雷鸟Q7 27寸显示器开售:2K 240Hz QD-Mini LED屏首发1999元      快科技      5天前   \n",
       "9             MiniLED概念22日主力净流入6238.2万元,TCL科技、雷曼光电居前      金融界      5天前   \n",
       "\n",
       "                                                  简介  \\\n",
       "0  5月30-31日,集摩咨询(JM Insights)联手洛图科技(TUNTO)、WitDis...   \n",
       "1  概念动态|汇创达新增“MiniLED”概念 2024年5月24日,汇创达(300909)新增...   \n",
       "2  公司是专业从事 LED 封装及提供相关解决方案的国家级高新技术企业,公司业务大类主要分为 L...   \n",
       "3  格隆汇5月23日丨瑞丰光电(300241.SZ)在投资者互动平台表示，公司MiniLED产品...   \n",
       "4  京东联合创新 27 英寸 4K MiniLED 显示器27M2U-D折后 1470.51 元...   \n",
       "5    5月23日10点4分,MiniLED 板块指数报1295.209点,跌幅达2%,成交46...   \n",
       "6  投资者:董秘你好,贵公司 Mini LED 背光产品是否在玻璃基板领域也有所布局和发展?或者...   \n",
       "7  近日，明基（BenQ）首款玻璃基主动式Mini LED高端系列显示器MOBIUZ EX321...   \n",
       "8  快科技5月22日消息，雷鸟Q7显示器目前已经开售，2K 240Hz QD-MiniLED屏幕...   \n",
       "9  TCL科技、雷曼光电居前 5月22日，MiniLED概念上涨1.68%，今日主力资金流入62...   \n",
       "\n",
       "                                                  链接  \n",
       "0          https://www.eet-china.com/mp/a317347.html  \n",
       "1  https://stock.10jqka.com.cn/20240524/c65817673...  \n",
       "2  http://app.myzaker.com/news/article.php?pk=664...  \n",
       "3  https://baijiahao.baidu.com/s?id=1799839344141...  \n",
       "4               https://www.ithome.com/0/770/056.htm  \n",
       "5  https://wap.eastmoney.com/a/202405233085097059...  \n",
       "6  http://www.myzaker.com/article/664dd1448e9f092...  \n",
       "7  https://baijiahao.baidu.com/s?id=1799747017517...  \n",
       "8  https://baijiahao.baidu.com/s?id=1799751977089...  \n",
       "9  https://baijiahao.baidu.com/s?id=1799737447599...  "
      ]
     },
     "execution_count": 4,
     "metadata": {},
     "output_type": "execute_result"
    }
   ],
   "source": [
    "a = pd.DataFrame(res)\n",
    "a"
   ]
  },
  {
   "cell_type": "code",
   "execution_count": 6,
   "metadata": {},
   "outputs": [
    {
     "data": {
      "text/html": [
       "<div>\n",
       "<style scoped>\n",
       "    .dataframe tbody tr th:only-of-type {\n",
       "        vertical-align: middle;\n",
       "    }\n",
       "\n",
       "    .dataframe tbody tr th {\n",
       "        vertical-align: top;\n",
       "    }\n",
       "\n",
       "    .dataframe thead th {\n",
       "        text-align: right;\n",
       "    }\n",
       "</style>\n",
       "<table border=\"1\" class=\"dataframe\">\n",
       "  <thead>\n",
       "    <tr style=\"text-align: right;\">\n",
       "      <th></th>\n",
       "      <th>标题</th>\n",
       "      <th>来源</th>\n",
       "      <th>日期</th>\n",
       "      <th>简介</th>\n",
       "      <th>链接</th>\n",
       "    </tr>\n",
       "  </thead>\n",
       "  <tbody>\n",
       "    <tr>\n",
       "      <th>0</th>\n",
       "      <td>TCL T7K今日开售,顶级配置尽揽眼前,尽享超凡体验!</td>\n",
       "      <td>太平洋科技</td>\n",
       "      <td>1小时前</td>\n",
       "      <td>T7K不光拥有超硬核的画质技术,还与旗舰产品共享“领曜芯片M2+TXR Mini LED画质...</td>\n",
       "      <td>https://g.pconline.com.cn/x/1743/17439588.html</td>\n",
       "    </tr>\n",
       "    <tr>\n",
       "      <th>1</th>\n",
       "      <td>聚积已量产35ppi Micro LED产品,将推出更高分辨率产品</td>\n",
       "      <td>LEDinside</td>\n",
       "      <td>2小时前</td>\n",
       "      <td>而到了2027年,则有更高阶的127ppi分辨率、以及254ppi分辨率产品要推出。 图片来...</td>\n",
       "      <td>https://www.ledinside.cn/news/20240515-57354.html</td>\n",
       "    </tr>\n",
       "    <tr>\n",
       "      <th>2</th>\n",
       "      <td>TCL将推出搭载MiniLED技术的Google电视新品</td>\n",
       "      <td>LEDinside</td>\n",
       "      <td>3小时前</td>\n",
       "      <td>TCL即将推出一系列搭载Mini LED等先进技术的Google电视新品,其中包括旗舰型号Q...</td>\n",
       "      <td>https://www.ledinside.cn/news/20240515-57352.html</td>\n",
       "    </tr>\n",
       "    <tr>\n",
       "      <th>6</th>\n",
       "      <td>MiniLED概念14日主力净流出1.77亿元,京东方A、TCL科技居前</td>\n",
       "      <td>金融界</td>\n",
       "      <td></td>\n",
       "      <td>MiniLED概念14日主力净流出1.77亿元，京东方A、TCL科技居前 5月14日，Min...</td>\n",
       "      <td>https://baijiahao.baidu.com/s?id=1799012954673...</td>\n",
       "    </tr>\n",
       "  </tbody>\n",
       "</table>\n",
       "</div>"
      ],
      "text/plain": [
       "                                     标题         来源    日期  \\\n",
       "0          TCL T7K今日开售,顶级配置尽揽眼前,尽享超凡体验!      太平洋科技  1小时前   \n",
       "1     聚积已量产35ppi Micro LED产品,将推出更高分辨率产品  LEDinside  2小时前   \n",
       "2          TCL将推出搭载MiniLED技术的Google电视新品  LEDinside  3小时前   \n",
       "6  MiniLED概念14日主力净流出1.77亿元,京东方A、TCL科技居前        金融界         \n",
       "\n",
       "                                                  简介  \\\n",
       "0  T7K不光拥有超硬核的画质技术,还与旗舰产品共享“领曜芯片M2+TXR Mini LED画质...   \n",
       "1  而到了2027年,则有更高阶的127ppi分辨率、以及254ppi分辨率产品要推出。 图片来...   \n",
       "2  TCL即将推出一系列搭载Mini LED等先进技术的Google电视新品,其中包括旗舰型号Q...   \n",
       "6  MiniLED概念14日主力净流出1.77亿元，京东方A、TCL科技居前 5月14日，Min...   \n",
       "\n",
       "                                                  链接  \n",
       "0     https://g.pconline.com.cn/x/1743/17439588.html  \n",
       "1  https://www.ledinside.cn/news/20240515-57354.html  \n",
       "2  https://www.ledinside.cn/news/20240515-57352.html  \n",
       "6  https://baijiahao.baidu.com/s?id=1799012954673...  "
      ]
     },
     "execution_count": 6,
     "metadata": {},
     "output_type": "execute_result"
    }
   ],
   "source": [
    "d = \" \"\n",
    "a[a.日期.str.contains(fr\"小时|{d}\")]"
   ]
  },
  {
   "cell_type": "code",
   "execution_count": null,
   "metadata": {},
   "outputs": [],
   "source": []
  },
  {
   "cell_type": "code",
   "execution_count": 15,
   "metadata": {},
   "outputs": [
    {
     "data": {
      "text/html": [
       "<div>\n",
       "<style scoped>\n",
       "    .dataframe tbody tr th:only-of-type {\n",
       "        vertical-align: middle;\n",
       "    }\n",
       "\n",
       "    .dataframe tbody tr th {\n",
       "        vertical-align: top;\n",
       "    }\n",
       "\n",
       "    .dataframe thead th {\n",
       "        text-align: right;\n",
       "    }\n",
       "</style>\n",
       "<table border=\"1\" class=\"dataframe\">\n",
       "  <thead>\n",
       "    <tr style=\"text-align: right;\">\n",
       "      <th></th>\n",
       "      <th>标题</th>\n",
       "      <th>author</th>\n",
       "      <th>date</th>\n",
       "      <th>des</th>\n",
       "      <th>url</th>\n",
       "      <th>cover</th>\n",
       "    </tr>\n",
       "  </thead>\n",
       "  <tbody>\n",
       "    <tr>\n",
       "      <th>0</th>\n",
       "      <td>TCL T7K今日开售,顶级配置尽揽眼前,尽享超凡体验!</td>\n",
       "      <td>太平洋科技</td>\n",
       "      <td>1小时前</td>\n",
       "      <td>T7K不光拥有超硬核的画质技术,还与旗舰产品共享“领曜芯片M2+TXR Mini LED画质...</td>\n",
       "      <td>https://g.pconline.com.cn/x/1743/17439588.html</td>\n",
       "      <td>https://t7.baidu.com/it/u=3370529243,379520633...</td>\n",
       "    </tr>\n",
       "    <tr>\n",
       "      <th>1</th>\n",
       "      <td>TCL将推出搭载MiniLED技术的Google电视新品</td>\n",
       "      <td>LEDinside</td>\n",
       "      <td>2小时前</td>\n",
       "      <td>TCL即将推出一系列搭载Mini LED等先进技术的Google电视新品,其中包括旗舰型号Q...</td>\n",
       "      <td>https://www.ledinside.cn/news/20240515-57352.html</td>\n",
       "      <td>http://gips1.baidu.com/it/u=876412742,27665553...</td>\n",
       "    </tr>\n",
       "    <tr>\n",
       "      <th>2</th>\n",
       "      <td>鸿利智汇:公司Mini LED背光主要采用的是COB工艺</td>\n",
       "      <td>同花顺财经</td>\n",
       "      <td>昨天17:51</td>\n",
       "      <td>公司回答表示,您好,公司Mini LED背光主要采用的是COB工艺。谢谢。 点击进入互动平台...</td>\n",
       "      <td>http://news.10jqka.com.cn/20240514/c657817259....</td>\n",
       "      <td>None</td>\n",
       "    </tr>\n",
       "    <tr>\n",
       "      <th>3</th>\n",
       "      <td>2024最高质价比TCL T7K Mini LED电视,5月15日开售!</td>\n",
       "      <td>中国网</td>\n",
       "      <td>昨天16:50</td>\n",
       "      <td>在TCL京东和天猫官方旗舰店,预定即送体验金,5月15日TCL T7K最低到到手价3299元...</td>\n",
       "      <td>http://science.china.com.cn/2024-05/14/content...</td>\n",
       "      <td>http://gips0.baidu.com/it/u=2892265558,3501691...</td>\n",
       "    </tr>\n",
       "    <tr>\n",
       "      <th>4</th>\n",
       "      <td>打造MLED生态圈!友达展出单片尺寸最大的31吋MicroLED</td>\n",
       "      <td>电子工程专辑</td>\n",
       "      <td>昨天16:17</td>\n",
       "      <td>第二届中国国际Mini/Micro-LED产业生态大会主办单位:JM Insights、洛图...</td>\n",
       "      <td>https://www.eet-china.com/mp/a314110.html</td>\n",
       "      <td>None</td>\n",
       "    </tr>\n",
       "    <tr>\n",
       "      <th>5</th>\n",
       "      <td>MiniLED概念14日主力净流出1.77亿元,京东方A、TCL科技居前</td>\n",
       "      <td>金融界</td>\n",
       "      <td>None</td>\n",
       "      <td>MiniLED概念14日主力净流出1.77亿元，京东方A、TCL科技居前 5月14日，Min...</td>\n",
       "      <td>https://baijiahao.baidu.com/s?id=1799012954673...</td>\n",
       "      <td>None</td>\n",
       "    </tr>\n",
       "    <tr>\n",
       "      <th>6</th>\n",
       "      <td>国内Mini LED电视市场景气度向好 Vidda等企业围绕AI方向展开竞技</td>\n",
       "      <td>中华网·新闻</td>\n",
       "      <td>昨天14:43</td>\n",
       "      <td>国内Mini LED电视市场景气度向好 Vidda等企业围绕AI方向展开竞技 最近的数据显示...</td>\n",
       "      <td>https://news.china.com/socialgd/10000169/20240...</td>\n",
       "      <td>None</td>\n",
       "    </tr>\n",
       "    <tr>\n",
       "      <th>7</th>\n",
       "      <td>5月14日MiniLED板块涨幅达2%</td>\n",
       "      <td>东方财富网</td>\n",
       "      <td>昨天09:35</td>\n",
       "      <td>5月14日9点31分,MiniLED板块指数报1239.837点,涨幅达2%,成交5.0...</td>\n",
       "      <td>https://finance.eastmoney.com/a/20240514307573...</td>\n",
       "      <td>None</td>\n",
       "    </tr>\n",
       "    <tr>\n",
       "      <th>8</th>\n",
       "      <td>TrendForce集邦咨询:为什么LCD+MiniLED背光才有未来?</td>\n",
       "      <td>电子工程专辑</td>\n",
       "      <td>前天16:33</td>\n",
       "      <td>TrendForce集邦咨询:为什么LCD+MiniLED背光才有未来? ST案例:异构汽车...</td>\n",
       "      <td>https://www.eet-china.com/mp/a313762.html</td>\n",
       "      <td>None</td>\n",
       "    </tr>\n",
       "    <tr>\n",
       "      <th>9</th>\n",
       "      <td>超进化!QD-HVA+MiniLED 打造极致光影体验 — Evnia 27M2N6800M...</td>\n",
       "      <td>ZAKER资讯</td>\n",
       "      <td>前天10:30</td>\n",
       "      <td>今天,我们将评测飞利浦全新游戏显示器子品牌Evnia推出的27M2N6800ML,这是一款配...</td>\n",
       "      <td>http://www.myzaker.com/article/6641b03e8e9f092...</td>\n",
       "      <td>None</td>\n",
       "    </tr>\n",
       "  </tbody>\n",
       "</table>\n",
       "</div>"
      ],
      "text/plain": [
       "                                                  标题     author     date  \\\n",
       "0                       TCL T7K今日开售,顶级配置尽揽眼前,尽享超凡体验!      太平洋科技     1小时前   \n",
       "1                       TCL将推出搭载MiniLED技术的Google电视新品  LEDinside     2小时前   \n",
       "2                       鸿利智汇:公司Mini LED背光主要采用的是COB工艺      同花顺财经  昨天17:51   \n",
       "3               2024最高质价比TCL T7K Mini LED电视,5月15日开售!        中国网  昨天16:50   \n",
       "4                   打造MLED生态圈!友达展出单片尺寸最大的31吋MicroLED     电子工程专辑  昨天16:17   \n",
       "5               MiniLED概念14日主力净流出1.77亿元,京东方A、TCL科技居前        金融界     None   \n",
       "6             国内Mini LED电视市场景气度向好 Vidda等企业围绕AI方向展开竞技     中华网·新闻  昨天14:43   \n",
       "7                                5月14日MiniLED板块涨幅达2%      东方财富网  昨天09:35   \n",
       "8               TrendForce集邦咨询:为什么LCD+MiniLED背光才有未来?     电子工程专辑  前天16:33   \n",
       "9  超进化!QD-HVA+MiniLED 打造极致光影体验 — Evnia 27M2N6800M...    ZAKER资讯  前天10:30   \n",
       "\n",
       "                                                 des  \\\n",
       "0  T7K不光拥有超硬核的画质技术,还与旗舰产品共享“领曜芯片M2+TXR Mini LED画质...   \n",
       "1  TCL即将推出一系列搭载Mini LED等先进技术的Google电视新品,其中包括旗舰型号Q...   \n",
       "2  公司回答表示,您好,公司Mini LED背光主要采用的是COB工艺。谢谢。 点击进入互动平台...   \n",
       "3  在TCL京东和天猫官方旗舰店,预定即送体验金,5月15日TCL T7K最低到到手价3299元...   \n",
       "4  第二届中国国际Mini/Micro-LED产业生态大会主办单位:JM Insights、洛图...   \n",
       "5  MiniLED概念14日主力净流出1.77亿元，京东方A、TCL科技居前 5月14日，Min...   \n",
       "6  国内Mini LED电视市场景气度向好 Vidda等企业围绕AI方向展开竞技 最近的数据显示...   \n",
       "7    5月14日9点31分,MiniLED板块指数报1239.837点,涨幅达2%,成交5.0...   \n",
       "8  TrendForce集邦咨询:为什么LCD+MiniLED背光才有未来? ST案例:异构汽车...   \n",
       "9  今天,我们将评测飞利浦全新游戏显示器子品牌Evnia推出的27M2N6800ML,这是一款配...   \n",
       "\n",
       "                                                 url  \\\n",
       "0     https://g.pconline.com.cn/x/1743/17439588.html   \n",
       "1  https://www.ledinside.cn/news/20240515-57352.html   \n",
       "2  http://news.10jqka.com.cn/20240514/c657817259....   \n",
       "3  http://science.china.com.cn/2024-05/14/content...   \n",
       "4          https://www.eet-china.com/mp/a314110.html   \n",
       "5  https://baijiahao.baidu.com/s?id=1799012954673...   \n",
       "6  https://news.china.com/socialgd/10000169/20240...   \n",
       "7  https://finance.eastmoney.com/a/20240514307573...   \n",
       "8          https://www.eet-china.com/mp/a313762.html   \n",
       "9  http://www.myzaker.com/article/6641b03e8e9f092...   \n",
       "\n",
       "                                               cover  \n",
       "0  https://t7.baidu.com/it/u=3370529243,379520633...  \n",
       "1  http://gips1.baidu.com/it/u=876412742,27665553...  \n",
       "2                                               None  \n",
       "3  http://gips0.baidu.com/it/u=2892265558,3501691...  \n",
       "4                                               None  \n",
       "5                                               None  \n",
       "6                                               None  \n",
       "7                                               None  \n",
       "8                                               None  \n",
       "9                                               None  "
      ]
     },
     "execution_count": 15,
     "metadata": {},
     "output_type": "execute_result"
    }
   ],
   "source": [
    "c = {\"title\":'标题'}\n",
    "a.rename(columns=c)"
   ]
  },
  {
   "cell_type": "code",
   "execution_count": null,
   "metadata": {},
   "outputs": [],
   "source": []
  },
  {
   "cell_type": "code",
   "execution_count": 1,
   "metadata": {},
   "outputs": [],
   "source": [
    "def read_key_words(file_path=\"key_words.md\"):\n",
    "    key_list = []\n",
    "    f = open(file_path, encoding='utf-8')  # 返回一个文件对象\n",
    "    lines = f.readlines()  # 读取全部内容\n",
    "\n",
    "    for line in lines:\n",
    "        # 如果读到空行，就跳过\n",
    "        if line.isspace():\n",
    "            continue\n",
    "        # elif line.startswith('# '):\n",
    "            \n",
    "        # elif line.startswith('## '):\n",
    "\n",
    "    \n",
    "        else:\n",
    "            # 去除文本中的换行等等，可以追加其他操作\n",
    "            line = line.replace(\"\\n\", \"\")\n",
    "            line = line.replace(\"\\t\", \"\")\n",
    "            # 处理完成后的行，追加到列表中\n",
    "            key_list.append(line)\n",
    "    f.close()\n",
    "    return key_list"
   ]
  },
  {
   "cell_type": "code",
   "execution_count": 3,
   "metadata": {},
   "outputs": [
    {
     "data": {
      "text/plain": [
       "['# 竞对企业',\n",
       " '## 黑电',\n",
       " '海信',\n",
       " '小米',\n",
       " 'TCL',\n",
       " '创维',\n",
       " '长虹',\n",
       " '海尔',\n",
       " '华为',\n",
       " '索尼',\n",
       " '三星',\n",
       " '夏普',\n",
       " '飞利浦',\n",
       " '## 白电',\n",
       " '海尔',\n",
       " '美的',\n",
       " '格力',\n",
       " '卡萨帝',\n",
       " '松下',\n",
       " '西门子',\n",
       " '容声',\n",
       " 'LG',\n",
       " '美菱',\n",
       " '## 半导体',\n",
       " '京东方',\n",
       " '天马微电子',\n",
       " '华灿光电',\n",
       " '辰显光电',\n",
       " '# 关键词',\n",
       " '## 品类',\n",
       " '电视',\n",
       " '空调',\n",
       " '冰箱',\n",
       " '洗衣机',\n",
       " '洗碗机',\n",
       " '## 其他大类',\n",
       " '家电',\n",
       " '智能家电',\n",
       " '智能电器',\n",
       " '家电家居',\n",
       " '以旧换新',\n",
       " '## 具体：电视',\n",
       " 'MLED',\n",
       " 'Mini LED',\n",
       " 'Mini直显',\n",
       " '千级分区',\n",
       " 'Micro LED',\n",
       " '白光Mini LED',\n",
       " '峰值亮度',\n",
       " '量子膜',\n",
       " '星闪通信',\n",
       " '画质芯片',\n",
       " 'wifi7',\n",
       " '## 具体：冰箱',\n",
       " '嵌入式 冰箱',\n",
       " '零嵌 冰箱',\n",
       " '超薄 冰箱',\n",
       " '十字 冰箱',\n",
       " '法式',\n",
       " '对开',\n",
       " '大容量',\n",
       " '## 半导体',\n",
       " '巨量转移',\n",
       " '巨量转移及修补',\n",
       " '巨量检测',\n",
       " 'Micro芯片',\n",
       " 'Mini芯片',\n",
       " '外延',\n",
       " '显示基板',\n",
       " '大屏拼接',\n",
       " '## 前沿技术',\n",
       " '5G',\n",
       " '8K',\n",
       " '人工智能',\n",
       " 'AI',\n",
       " '大模型',\n",
       " '云计算']"
      ]
     },
     "execution_count": 3,
     "metadata": {},
     "output_type": "execute_result"
    }
   ],
   "source": [
    "key_list = read_key_words()\n",
    "key_list"
   ]
  },
  {
   "cell_type": "code",
   "execution_count": 24,
   "metadata": {},
   "outputs": [],
   "source": [
    "a = [{'竞对企业': \n",
    "  [{'kw': 'xxx', \n",
    "   'cg': '黑电',\n",
    "   'detal': [{'标题': '111', 'url': 'xxss'},\n",
    "             {'标题': '222', 'url': 'sfas'}]},\n",
    "    {'kw': 'xx',\n",
    "     'cg': '黑电',\n",
    "     'detal': [{'标题': '333', 'url': 'xxsss'},\n",
    "             {'标题': '444', 'url': 'sf4as'}]\n",
    "    }\n",
    "  ]},\n",
    "\n",
    "]"
   ]
  },
  {
   "cell_type": "code",
   "execution_count": 34,
   "metadata": {},
   "outputs": [
    {
     "name": "stdout",
     "output_type": "stream",
     "text": [
      "竞对企业\n",
      "[{'kw': 'xxx', 'cg': '黑电', 'detal': []}, {'kw': 'xx', 'cg': '黑电', 'detal': []}]\n"
     ]
    }
   ],
   "source": [
    "for k, v in a[0].items():\n",
    "    print(k)\n",
    "    print(v)"
   ]
  },
  {
   "cell_type": "code",
   "execution_count": 37,
   "metadata": {},
   "outputs": [
    {
     "data": {
      "text/html": [
       "<div>\n",
       "<style scoped>\n",
       "    .dataframe tbody tr th:only-of-type {\n",
       "        vertical-align: middle;\n",
       "    }\n",
       "\n",
       "    .dataframe tbody tr th {\n",
       "        vertical-align: top;\n",
       "    }\n",
       "\n",
       "    .dataframe thead th {\n",
       "        text-align: right;\n",
       "    }\n",
       "</style>\n",
       "<table border=\"1\" class=\"dataframe\">\n",
       "  <thead>\n",
       "    <tr style=\"text-align: right;\">\n",
       "      <th></th>\n",
       "      <th>kw</th>\n",
       "      <th>cg</th>\n",
       "      <th>detal</th>\n",
       "    </tr>\n",
       "  </thead>\n",
       "  <tbody>\n",
       "    <tr>\n",
       "      <th>0</th>\n",
       "      <td>xxx</td>\n",
       "      <td>黑电</td>\n",
       "      <td>[]</td>\n",
       "    </tr>\n",
       "    <tr>\n",
       "      <th>1</th>\n",
       "      <td>xx</td>\n",
       "      <td>黑电</td>\n",
       "      <td>[]</td>\n",
       "    </tr>\n",
       "  </tbody>\n",
       "</table>\n",
       "</div>"
      ],
      "text/plain": [
       "    kw  cg detal\n",
       "0  xxx  黑电    []\n",
       "1   xx  黑电    []"
      ]
     },
     "execution_count": 37,
     "metadata": {},
     "output_type": "execute_result"
    }
   ],
   "source": [
    "d= pd.DataFrame(v)\n",
    "d"
   ]
  },
  {
   "cell_type": "code",
   "execution_count": 45,
   "metadata": {},
   "outputs": [],
   "source": [
    "d.drop_duplicates(subset='cg', inplace=True)"
   ]
  },
  {
   "cell_type": "code",
   "execution_count": 46,
   "metadata": {},
   "outputs": [
    {
     "data": {
      "text/html": [
       "<div>\n",
       "<style scoped>\n",
       "    .dataframe tbody tr th:only-of-type {\n",
       "        vertical-align: middle;\n",
       "    }\n",
       "\n",
       "    .dataframe tbody tr th {\n",
       "        vertical-align: top;\n",
       "    }\n",
       "\n",
       "    .dataframe thead th {\n",
       "        text-align: right;\n",
       "    }\n",
       "</style>\n",
       "<table border=\"1\" class=\"dataframe\">\n",
       "  <thead>\n",
       "    <tr style=\"text-align: right;\">\n",
       "      <th></th>\n",
       "      <th>kw</th>\n",
       "      <th>cg</th>\n",
       "      <th>detal</th>\n",
       "    </tr>\n",
       "  </thead>\n",
       "  <tbody>\n",
       "    <tr>\n",
       "      <th>0</th>\n",
       "      <td>xxx</td>\n",
       "      <td>黑电</td>\n",
       "      <td>[]</td>\n",
       "    </tr>\n",
       "  </tbody>\n",
       "</table>\n",
       "</div>"
      ],
      "text/plain": [
       "    kw  cg detal\n",
       "0  xxx  黑电    []"
      ]
     },
     "execution_count": 46,
     "metadata": {},
     "output_type": "execute_result"
    }
   ],
   "source": [
    "d"
   ]
  },
  {
   "cell_type": "code",
   "execution_count": 1,
   "metadata": {},
   "outputs": [],
   "source": [
    "def python_inter(py_code, g='globals()'):\n",
    "    \"\"\"\n",
    "    专门用于执行非绘图类python代码，并获取最终查询或处理结果。若是设计绘图操作的Python代码，则需要调用fig_inter函数来执行。\n",
    "    :param py_code: 字符串形式的Python代码，用于执行对telco_db数据库中各张数据表进行操作\n",
    "    :param g: g，字符串形式变量，表示环境变量，无需设置，保持默认参数即可\n",
    "    :return：代码运行的最终结果\n",
    "    \"\"\"    \n",
    "    \n",
    "    global_vars_before = set(g.keys())\n",
    "    try:\n",
    "        exec(py_code, g)            \n",
    "    except Exception as e:\n",
    "        return f\"代码执行时报错{e}\"\n",
    "    global_vars_after = set(g.keys())\n",
    "    new_vars = global_vars_after - global_vars_before\n",
    "    # 若存在新变量\n",
    "    if new_vars:\n",
    "        result = {var: g[var] for var in new_vars}\n",
    "        return str(result)\n",
    "    # 若不存在新变量，即有可能是代码是表达式，也有可能代码对相同变量重复赋值\n",
    "    else:\n",
    "        try:\n",
    "            # 尝试如果是表达式，则返回表达式运行结果\n",
    "            return str(eval(py_code, g))\n",
    "        # 若报错，则先测试是否是对相同变量重复赋值\n",
    "        except Exception as e:\n",
    "            try:\n",
    "                exec(py_code, g)\n",
    "                return \"已经顺利执行代码\"\n",
    "            except Exception as e:\n",
    "                pass\n",
    "            # 若不是重复赋值，则报错\n",
    "            return f\"代码执行时报错{e}\""
   ]
  },
  {
   "cell_type": "code",
   "execution_count": 3,
   "metadata": {},
   "outputs": [
    {
     "data": {
      "text/plain": [
       "'7'"
      ]
     },
     "execution_count": 3,
     "metadata": {},
     "output_type": "execute_result"
    }
   ],
   "source": [
    "code_str1 = '2 + 5'\n",
    "python_inter(py_code = code_str1, g=globals())"
   ]
  },
  {
   "cell_type": "code",
   "execution_count": 5,
   "metadata": {},
   "outputs": [
    {
     "data": {
      "text/plain": [
       "[{'标题': '投资25.7亿!韩国政府支持MicroLED研发及生态系统建设',\n",
       "  '来源': '电子工程专辑',\n",
       "  '日期': '昨天09:58',\n",
       "  '简介': '5月30-31日,集摩咨询(JM Insights)联手洛图科技(TUNTO)、WitDisplay及众多电子信息各行业组织机构,在苏州举办“第二届苏州国际Mini/Micro LED产业生态大会(以下简称:CMIF 2024)”。大会邀请到TCL实业、TCL华星、天马微、中麒光电、芯乐光、辰显光电、东山精密、晶台光...',\n",
       "  '链接': 'https://www.eet-china.com/mp/a317347.html'},\n",
       " {'标题': '概念动态|汇创达新增“MiniLED”概念',\n",
       "  '来源': '同花顺',\n",
       "  '日期': '3天前',\n",
       "  '简介': '概念动态|汇创达新增“MiniLED”概念 2024年5月24日,汇创达(300909)新增“MiniLED”概念。 据同花顺数据显示,入选理由是:2024年1月8日互动易回复:公司研发的MiniLED背光产品具有低功耗、轻薄化的优点,主要应用于各大厂商未来推出中高端新机型。 该公司常规概念还有:智...',\n",
       "  '链接': 'https://stock.10jqka.com.cn/20240524/c658176736.shtml'},\n",
       " {'标题': '瑞丰光电:公司MiniLED产品目前主要采用的是COB方案,对玻璃基板...',\n",
       "  '来源': 'ZAKER',\n",
       "  '日期': '4天前',\n",
       "  '简介': '公司是专业从事 LED 封装及提供相关解决方案的国家级高新技术企业,公司业务大类主要分为 LED 产品及电子纸产品,LED 产品包含背光 LED、CHIP LED、RGB LED、Mini LED 业务。其他 LED 包括车用 LED、红外 LED,激光业务等。其中公司 MiniLED 产品目前主要采用的是 COB 方...',\n",
       "  '链接': 'http://app.myzaker.com/news/article.php?pk=664f305a8e9f0913e371e1de'},\n",
       " {'标题': '瑞丰光电(300241.SZ):公司MiniLED产品目前主要采用的是COB方案',\n",
       "  '来源': '格隆汇',\n",
       "  '日期': '4天前',\n",
       "  '简介': '格隆汇5月23日丨瑞丰光电(300241.SZ)在投资者互动平台表示，公司MiniLED产品目前主要采用的是COB方案，对玻璃基板方案的技术路径有相关技术储备。',\n",
       "  '链接': 'https://baijiahao.baidu.com/s?id=1799839344141818858&wfr=spider&for=pc'},\n",
       " {'标题': '65W Type-C + Mini LED:联合创新 27 英寸 4K 显示器 1470 元百亿...',\n",
       "  '来源': 'IT之家',\n",
       "  '日期': '4天前',\n",
       "  '简介': '京东联合创新 27 英寸 4K MiniLED 显示器27M2U-D折后 1470.51 元直达链接 IT之家整理联合创新 27M2U-D 显示器参数如下: 联合创新 27M2U-D 显示器采用 IPS 面板,4K 分辨率,采用 384 独立...',\n",
       "  '链接': 'https://www.ithome.com/0/770/056.htm'},\n",
       " {'标题': '5月23日MiniLED板块跌幅达2%',\n",
       "  '来源': '东方财富网',\n",
       "  '日期': '4天前',\n",
       "  '简介': '\\u2003\\u20035月23日10点4分,MiniLED 板块指数报1295.209点,跌幅达2%,成交46.86亿元,换手率0.59%。 \\u2003\\u2003板块个股中,跌幅最大的前5个股为:雷曼光电 报9.95元,跌7.61%;隆利科技 报15.82元,跌7.49%;光莆股份 报10.56元,跌6.22%;瑞丰光电 报4.20元,跌5.83%;沃格光电 ...',\n",
       "  '链接': 'https://wap.eastmoney.com/a/202405233085097059.html'},\n",
       " {'标题': '聚灿光电:公司 Mini LED 产品主要应用领域为背光和显示,感谢您的...',\n",
       "  '来源': 'ZAKER资讯',\n",
       "  '日期': '5天前',\n",
       "  '简介': '投资者:董秘你好,贵公司 Mini LED 背光产品是否在玻璃基板领域也有所布局和发展?或者有什么成果? 聚灿光电董秘:您好,公司 Mini LED 产品主要应用领域为背光和显示,感谢您的持续关注! 以上内容由证券之星根据公开信息整理,由算法生成(网信算备 310104345710301240019 ...',\n",
       "  '链接': 'http://www.myzaker.com/article/664dd1448e9f092add6364c0'},\n",
       " {'标题': 'BOE(京东方)独供明基首款玻璃基主动式Mini LED显示器重磅发布',\n",
       "  '来源': '华商韬略',\n",
       "  '日期': '5天前',\n",
       "  '简介': '近日，明基（BenQ）首款玻璃基主动式Mini LED高端系列显示器MOBIUZ EX321UX于日本重磅发布。该旗舰产品搭载了由BOE（京东方）首创的α-MLED技术品牌赋能的31.5英寸显示屏，以高端玻璃基...',\n",
       "  '链接': 'https://baijiahao.baidu.com/s?id=1799747017517559473&wfr=spider&for=pc'},\n",
       " {'标题': '雷鸟Q7 27寸显示器开售:2K 240Hz QD-Mini LED屏首发1999元',\n",
       "  '来源': '快科技',\n",
       "  '日期': '5天前',\n",
       "  '简介': '快科技5月22日消息，雷鸟Q7显示器目前已经开售，2K 240Hz QD-MiniLED屏幕，首发价1999元。据悉，新款显示器采用27寸FAST HVA面板，2560x1440分辨率，240Hz高刷，采用八通道AM驱动的Mini...',\n",
       "  '链接': 'https://baijiahao.baidu.com/s?id=1799751977089501565&wfr=spider&for=pc'},\n",
       " {'标题': 'MiniLED概念22日主力净流入6238.2万元,TCL科技、雷曼光电居前',\n",
       "  '来源': '金融界',\n",
       "  '日期': '5天前',\n",
       "  '简介': 'TCL科技、雷曼光电居前 5月22日，MiniLED概念上涨1.68%，今日主力资金流入6238.2万元，概念股45只上涨，13只下跌。主力资金净流入居前的分别为TCL科技（2.03亿元）、雷曼光电（6010.61万元）、东山精密（5336.79万元）、*ST合泰（3181.05万元）、科翔股份（2682.17万...',\n",
       "  '链接': 'https://baijiahao.baidu.com/s?id=1799737447599468522&wfr=spider&for=pc'}]"
      ]
     },
     "execution_count": 5,
     "metadata": {},
     "output_type": "execute_result"
    }
   ],
   "source": [
    "res"
   ]
  },
  {
   "cell_type": "code",
   "execution_count": 2,
   "metadata": {},
   "outputs": [],
   "source": [
    "code_str1 = 'a = 10'\n",
    "exec(code_str1, g) "
   ]
  },
  {
   "cell_type": "code",
   "execution_count": 3,
   "metadata": {},
   "outputs": [
    {
     "data": {
      "text/plain": [
       "{'_1', '_i2', '_i3', 'a', 'code_str1', 'global_vars_before'}"
      ]
     },
     "execution_count": 3,
     "metadata": {},
     "output_type": "execute_result"
    }
   ],
   "source": [
    "global_vars_after = set(g.keys())\n",
    "new_vars = global_vars_after - global_vars_before\n",
    "new_vars"
   ]
  },
  {
   "cell_type": "code",
   "execution_count": 4,
   "metadata": {},
   "outputs": [
    {
     "name": "stdout",
     "output_type": "stream",
     "text": [
      "4\n"
     ]
    }
   ],
   "source": [
    "code = 'result = 2 + 2'\n",
    "local_vars = {}\n",
    "exec(code, globals(), local_vars)\n",
    "result = local_vars['result']\n",
    "print(result)"
   ]
  },
  {
   "cell_type": "code",
   "execution_count": 5,
   "metadata": {},
   "outputs": [
    {
     "name": "stdout",
     "output_type": "stream",
     "text": [
      "4\n"
     ]
    }
   ],
   "source": [
    "code = 'result = 2 + 2'\n",
    "global_vars = {}\n",
    "exec(code, global_vars)\n",
    "result = global_vars['result']\n",
    "print(result)"
   ]
  },
  {
   "cell_type": "code",
   "execution_count": 12,
   "metadata": {},
   "outputs": [],
   "source": [
    "def a():\n",
    "    b = 3\n",
    "    code = 'result = 2 + 2'\n",
    "    global_vars = {}\n",
    "    exec(code, locals(), global_vars)\n",
    "    print(global_vars)"
   ]
  },
  {
   "cell_type": "code",
   "execution_count": 13,
   "metadata": {},
   "outputs": [
    {
     "name": "stdout",
     "output_type": "stream",
     "text": [
      "{'result': 4}\n"
     ]
    }
   ],
   "source": [
    "a()\n"
   ]
  },
  {
   "cell_type": "code",
   "execution_count": 6,
   "metadata": {},
   "outputs": [
    {
     "ename": "NameError",
     "evalue": "name 'b' is not defined",
     "output_type": "error",
     "traceback": [
      "\u001b[0;31m---------------------------------------------------------------------------\u001b[0m",
      "\u001b[0;31mNameError\u001b[0m                                 Traceback (most recent call last)",
      "Cell \u001b[0;32mIn[6], line 1\u001b[0m\n\u001b[0;32m----> 1\u001b[0m \u001b[43mb\u001b[49m\n",
      "\u001b[0;31mNameError\u001b[0m: name 'b' is not defined"
     ]
    }
   ],
   "source": [
    "b"
   ]
  },
  {
   "cell_type": "code",
   "execution_count": 14,
   "metadata": {},
   "outputs": [
    {
     "ename": "NameError",
     "evalue": "name 'result' is not defined",
     "output_type": "error",
     "traceback": [
      "\u001b[0;31m---------------------------------------------------------------------------\u001b[0m",
      "\u001b[0;31mNameError\u001b[0m                                 Traceback (most recent call last)",
      "Cell \u001b[0;32mIn[14], line 1\u001b[0m\n\u001b[0;32m----> 1\u001b[0m \u001b[43mresult\u001b[49m\n",
      "\u001b[0;31mNameError\u001b[0m: name 'result' is not defined"
     ]
    }
   ],
   "source": [
    "result"
   ]
  },
  {
   "cell_type": "code",
   "execution_count": null,
   "metadata": {},
   "outputs": [],
   "source": []
  }
 ],
 "metadata": {
  "kernelspec": {
   "display_name": "spider",
   "language": "python",
   "name": "python3"
  },
  "language_info": {
   "codemirror_mode": {
    "name": "ipython",
    "version": 3
   },
   "file_extension": ".py",
   "mimetype": "text/x-python",
   "name": "python",
   "nbconvert_exporter": "python",
   "pygments_lexer": "ipython3",
   "version": "3.9.18"
  }
 },
 "nbformat": 4,
 "nbformat_minor": 2
}
